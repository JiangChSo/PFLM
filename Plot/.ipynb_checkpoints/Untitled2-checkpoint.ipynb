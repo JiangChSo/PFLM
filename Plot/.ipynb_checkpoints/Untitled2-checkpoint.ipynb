{
 "cells": [
  {
   "cell_type": "code",
   "execution_count": 1,
   "metadata": {},
   "outputs": [],
   "source": [
    "import csv\n",
    "import pandas as pd\n",
    "from collections import Counter\n",
    "import numpy as np\n",
    "import os\n",
    "import matplotlib.pyplot as plt\n",
    "from matplotlib.backends.backend_pdf import PdfPages"
   ]
  },
  {
   "cell_type": "code",
   "execution_count": 2,
   "metadata": {},
   "outputs": [],
   "source": [
    "file = csv.reader('a.csv')"
   ]
  },
  {
   "cell_type": "code",
   "execution_count": 6,
   "metadata": {},
   "outputs": [
    {
     "name": "stdout",
     "output_type": "stream",
     "text": [
      "['a']\n",
      "['.']\n",
      "['c']\n",
      "['s']\n",
      "['v']\n"
     ]
    }
   ],
   "source": [
    "for row in file:\n",
    "    print(row)"
   ]
  },
  {
   "cell_type": "code",
   "execution_count": null,
   "metadata": {},
   "outputs": [],
   "source": [
    "font = 17\n",
    "\n",
    "fig = plt.figure()\n",
    "ax = plt.axes()\n",
    "x = range(11)+1\n",
    "plt.xlabel(\"时间\",fontsize=font)\n",
    "plt.ylabel(\"咨询次数\",fontsize=font)\n",
    "bar_width = 0.4\n",
    "tick_label = [\"1月\",\"2-3月\",\"4月\",\"5月\",\"6月\",\"7月\",\"8月\",\"9月\",\"10月\",\"11月\",\"12月\"]\n",
    "\n",
    "plt.xticks(x+bar_width/3, tick_label,fontsize=font)\n",
    "plt.yticks(fontsize=font)\n",
    "\n",
    "\n",
    "\n",
    "    \n",
    "ax.bar(x,ClientRound4Time, bar_width, color=\"#0072BD\", align=\"center\", label=\"Verification cost\",edgecolor=\"#000000\")\n",
    "ax.bar(x+bar_width, ClientTotalTime, bar_width, align=\"center\", color=\"#D95319\", label=\"Total cost\",edgecolor=\"#000000\")\n",
    "\n",
    "plt.legend(loc=\"center left\",bbox_to_anchor=(0,0.84),fontsize=font)\n",
    "plt.text(0,103,'No dropout',fontsize=font)\n",
    "fig_width_pt = 300.0  # Get this from LaTeX using \\showthe\n",
    "inches_per_pt = 1.0 / 72.27 * 2  # Convert pt to inches\n",
    "golden_mean = ((np.math.sqrt(5) - 1.0) / 2.0)  # Aesthetic ratio\n",
    "fig_width = fig_width_pt * inches_per_pt  # width in inches\n",
    "fig_height = fig_width  # height in inches\n",
    "# fig_height = (fig_width * 1)  # height in inches\n",
    "fig_size = [0.95 * fig_width, 0.95 *fig_height]\n",
    "pdf_pages = PdfPages(os.path.join(\"plot/0dropoutU_100G.pdf\"))\n",
    "F = plt.gcf()\n",
    "F.set_size_inches(fig_size)\n",
    "pdf_pages.savefig(F, bbox_inches='tight', pad_inches=0.1)\n",
    "plt.clf()\n",
    "pdf_pages.close()"
   ]
  }
 ],
 "metadata": {
  "kernelspec": {
   "display_name": "Python 3",
   "language": "python",
   "name": "python3"
  },
  "language_info": {
   "codemirror_mode": {
    "name": "ipython",
    "version": 3
   },
   "file_extension": ".py",
   "mimetype": "text/x-python",
   "name": "python",
   "nbconvert_exporter": "python",
   "pygments_lexer": "ipython3",
   "version": "3.6.5"
  }
 },
 "nbformat": 4,
 "nbformat_minor": 2
}
