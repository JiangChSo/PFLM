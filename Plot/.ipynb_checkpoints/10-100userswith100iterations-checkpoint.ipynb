{
 "cells": [
  {
   "cell_type": "code",
   "execution_count": 1,
   "metadata": {},
   "outputs": [],
   "source": [
    "import csv\n",
    "import pandas as pd\n",
    "from collections import Counter\n",
    "import numpy as np\n",
    "import os\n",
    "import matplotlib.pyplot as plt\n",
    "from matplotlib.backends.backend_pdf import PdfPages"
   ]
  },
  {
   "cell_type": "code",
   "execution_count": 2,
   "metadata": {},
   "outputs": [],
   "source": [
    "startusers = 10\n",
    "endusers = 130\n",
    "interval = 10"
   ]
  },
  {
   "cell_type": "code",
   "execution_count": 74,
   "metadata": {},
   "outputs": [
    {
     "ename": "TypeError",
     "evalue": "__init__() got an unexpected keyword argument 'fontweight'",
     "output_type": "error",
     "traceback": [
      "\u001b[1;31m---------------------------------------------------------------------------\u001b[0m",
      "\u001b[1;31mTypeError\u001b[0m                                 Traceback (most recent call last)",
      "\u001b[1;32m<ipython-input-74-47310c10ee98>\u001b[0m in \u001b[0;36m<module>\u001b[1;34m()\u001b[0m\n\u001b[0;32m     36\u001b[0m \u001b[0max\u001b[0m\u001b[1;33m.\u001b[0m\u001b[0mbar\u001b[0m\u001b[1;33m(\u001b[0m\u001b[0mx\u001b[0m\u001b[1;33m+\u001b[0m\u001b[0mbar_width\u001b[0m\u001b[1;33m,\u001b[0m \u001b[0mClientTotalTime\u001b[0m\u001b[1;33m,\u001b[0m \u001b[0mbar_width\u001b[0m\u001b[1;33m,\u001b[0m \u001b[0malign\u001b[0m\u001b[1;33m=\u001b[0m\u001b[1;34m\"center\"\u001b[0m\u001b[1;33m,\u001b[0m \u001b[0mcolor\u001b[0m\u001b[1;33m=\u001b[0m\u001b[1;34m\"#D95319\"\u001b[0m\u001b[1;33m,\u001b[0m \u001b[0mlabel\u001b[0m\u001b[1;33m=\u001b[0m\u001b[1;34m\"Total cost\"\u001b[0m\u001b[1;33m,\u001b[0m\u001b[0medgecolor\u001b[0m\u001b[1;33m=\u001b[0m\u001b[1;34m\"#000000\"\u001b[0m\u001b[1;33m)\u001b[0m\u001b[1;33m\u001b[0m\u001b[0m\n\u001b[0;32m     37\u001b[0m \u001b[1;33m\u001b[0m\u001b[0m\n\u001b[1;32m---> 38\u001b[1;33m \u001b[0mplt\u001b[0m\u001b[1;33m.\u001b[0m\u001b[0mlegend\u001b[0m\u001b[1;33m(\u001b[0m\u001b[0mloc\u001b[0m\u001b[1;33m=\u001b[0m\u001b[1;34m\"center left\"\u001b[0m\u001b[1;33m,\u001b[0m\u001b[0mbbox_to_anchor\u001b[0m\u001b[1;33m=\u001b[0m\u001b[1;33m(\u001b[0m\u001b[1;36m0\u001b[0m\u001b[1;33m,\u001b[0m\u001b[1;36m0.84\u001b[0m\u001b[1;33m)\u001b[0m\u001b[1;33m,\u001b[0m\u001b[0mfontsize\u001b[0m\u001b[1;33m=\u001b[0m\u001b[0mfont\u001b[0m\u001b[1;33m,\u001b[0m\u001b[0mfontweight\u001b[0m\u001b[1;33m=\u001b[0m\u001b[1;34m'bold'\u001b[0m\u001b[1;33m)\u001b[0m\u001b[1;33m\u001b[0m\u001b[0m\n\u001b[0m\u001b[0;32m     39\u001b[0m \u001b[0mplt\u001b[0m\u001b[1;33m.\u001b[0m\u001b[0mtext\u001b[0m\u001b[1;33m(\u001b[0m\u001b[1;36m0\u001b[0m\u001b[1;33m,\u001b[0m\u001b[1;36m103\u001b[0m\u001b[1;33m,\u001b[0m\u001b[1;34m'No dropout'\u001b[0m\u001b[1;33m,\u001b[0m\u001b[0mfontsize\u001b[0m\u001b[1;33m=\u001b[0m\u001b[0mfont\u001b[0m\u001b[1;33m,\u001b[0m\u001b[0mfontweight\u001b[0m\u001b[1;33m=\u001b[0m\u001b[1;34m'bold'\u001b[0m\u001b[1;33m)\u001b[0m\u001b[1;33m\u001b[0m\u001b[0m\n\u001b[0;32m     40\u001b[0m \u001b[0mfig_width_pt\u001b[0m \u001b[1;33m=\u001b[0m \u001b[1;36m300.0\u001b[0m  \u001b[1;31m# Get this from LaTeX using \\showthe\u001b[0m\u001b[1;33m\u001b[0m\u001b[0m\n",
      "\u001b[1;32mF:\\programfiles\\anaconda\\lib\\site-packages\\matplotlib\\pyplot.py\u001b[0m in \u001b[0;36mlegend\u001b[1;34m(*args, **kwargs)\u001b[0m\n\u001b[0;32m   3816\u001b[0m \u001b[1;33m@\u001b[0m\u001b[0mdocstring\u001b[0m\u001b[1;33m.\u001b[0m\u001b[0mcopy_dedent\u001b[0m\u001b[1;33m(\u001b[0m\u001b[0mAxes\u001b[0m\u001b[1;33m.\u001b[0m\u001b[0mlegend\u001b[0m\u001b[1;33m)\u001b[0m\u001b[1;33m\u001b[0m\u001b[0m\n\u001b[0;32m   3817\u001b[0m \u001b[1;32mdef\u001b[0m \u001b[0mlegend\u001b[0m\u001b[1;33m(\u001b[0m\u001b[1;33m*\u001b[0m\u001b[0margs\u001b[0m\u001b[1;33m,\u001b[0m \u001b[1;33m**\u001b[0m\u001b[0mkwargs\u001b[0m\u001b[1;33m)\u001b[0m\u001b[1;33m:\u001b[0m\u001b[1;33m\u001b[0m\u001b[0m\n\u001b[1;32m-> 3818\u001b[1;33m     \u001b[0mret\u001b[0m \u001b[1;33m=\u001b[0m \u001b[0mgca\u001b[0m\u001b[1;33m(\u001b[0m\u001b[1;33m)\u001b[0m\u001b[1;33m.\u001b[0m\u001b[0mlegend\u001b[0m\u001b[1;33m(\u001b[0m\u001b[1;33m*\u001b[0m\u001b[0margs\u001b[0m\u001b[1;33m,\u001b[0m \u001b[1;33m**\u001b[0m\u001b[0mkwargs\u001b[0m\u001b[1;33m)\u001b[0m\u001b[1;33m\u001b[0m\u001b[0m\n\u001b[0m\u001b[0;32m   3819\u001b[0m     \u001b[1;32mreturn\u001b[0m \u001b[0mret\u001b[0m\u001b[1;33m\u001b[0m\u001b[0m\n\u001b[0;32m   3820\u001b[0m \u001b[1;33m\u001b[0m\u001b[0m\n",
      "\u001b[1;32mF:\\programfiles\\anaconda\\lib\\site-packages\\matplotlib\\axes\\_axes.py\u001b[0m in \u001b[0;36mlegend\u001b[1;34m(self, *args, **kwargs)\u001b[0m\n\u001b[0;32m    555\u001b[0m         \u001b[1;32mif\u001b[0m \u001b[0mlen\u001b[0m\u001b[1;33m(\u001b[0m\u001b[0mextra_args\u001b[0m\u001b[1;33m)\u001b[0m\u001b[1;33m:\u001b[0m\u001b[1;33m\u001b[0m\u001b[0m\n\u001b[0;32m    556\u001b[0m             \u001b[1;32mraise\u001b[0m \u001b[0mTypeError\u001b[0m\u001b[1;33m(\u001b[0m\u001b[1;34m'legend only accepts two non-keyword arguments'\u001b[0m\u001b[1;33m)\u001b[0m\u001b[1;33m\u001b[0m\u001b[0m\n\u001b[1;32m--> 557\u001b[1;33m         \u001b[0mself\u001b[0m\u001b[1;33m.\u001b[0m\u001b[0mlegend_\u001b[0m \u001b[1;33m=\u001b[0m \u001b[0mmlegend\u001b[0m\u001b[1;33m.\u001b[0m\u001b[0mLegend\u001b[0m\u001b[1;33m(\u001b[0m\u001b[0mself\u001b[0m\u001b[1;33m,\u001b[0m \u001b[0mhandles\u001b[0m\u001b[1;33m,\u001b[0m \u001b[0mlabels\u001b[0m\u001b[1;33m,\u001b[0m \u001b[1;33m**\u001b[0m\u001b[0mkwargs\u001b[0m\u001b[1;33m)\u001b[0m\u001b[1;33m\u001b[0m\u001b[0m\n\u001b[0m\u001b[0;32m    558\u001b[0m         \u001b[0mself\u001b[0m\u001b[1;33m.\u001b[0m\u001b[0mlegend_\u001b[0m\u001b[1;33m.\u001b[0m\u001b[0m_remove_method\u001b[0m \u001b[1;33m=\u001b[0m \u001b[1;32mlambda\u001b[0m \u001b[0mh\u001b[0m\u001b[1;33m:\u001b[0m \u001b[0msetattr\u001b[0m\u001b[1;33m(\u001b[0m\u001b[0mself\u001b[0m\u001b[1;33m,\u001b[0m \u001b[1;34m'legend_'\u001b[0m\u001b[1;33m,\u001b[0m \u001b[1;32mNone\u001b[0m\u001b[1;33m)\u001b[0m\u001b[1;33m\u001b[0m\u001b[0m\n\u001b[0;32m    559\u001b[0m         \u001b[1;32mreturn\u001b[0m \u001b[0mself\u001b[0m\u001b[1;33m.\u001b[0m\u001b[0mlegend_\u001b[0m\u001b[1;33m\u001b[0m\u001b[0m\n",
      "\u001b[1;31mTypeError\u001b[0m: __init__() got an unexpected keyword argument 'fontweight'"
     ]
    },
    {
     "data": {
      "image/png": "[encoded data removed]",
      "text/plain": [
       "<Figure size 432x288 with 1 Axes>"
      ]
     },
     "metadata": {},
     "output_type": "display_data"
    }
   ],
   "source": [
    "#柱状图\n",
    "#0dropout 用户耗时随着用户数的改变 柱状图\n",
    "DDF = []\n",
    "startusers = 10\n",
    "endusers = 130\n",
    "interval = 10\n",
    "\n",
    "for i in range(startusers, endusers, interval):\n",
    "    filename = f'BENCHMARK/nodropout/good_{i}c_nodrop_l5ms.csv'\n",
    "    df = pd.read_csv(filename)\n",
    "    DDF.append(df)\n",
    "    \n",
    "font = 17\n",
    "\n",
    "fig = plt.figure()\n",
    "ax = plt.axes()\n",
    "\n",
    "plt.xlabel(\"Number of users\",fontsize=font)\n",
    "plt.ylabel(\"Running time per user (s)\",fontsize=font)\n",
    "bar_width = 0.4\n",
    "tick_label = list(range(startusers, endusers, interval))\n",
    "x = np.arange((endusers-startusers)/interval)\n",
    "plt.xticks(x+bar_width/2, tick_label,fontsize=font)\n",
    "plt.yticks(fontsize=font)\n",
    "\n",
    "\n",
    "ClientTotalTime = []\n",
    "ClientRound4Time = []\n",
    "for i, df in enumerate(DDF):\n",
    "    Round4Time = df[\"clientround4time\"].mean()\n",
    "    TotalTime = df[\"ClientTotalTime\"].mean()\n",
    "    ClientRound4Time.append(Round4Time)\n",
    "    ClientTotalTime.append(TotalTime)\n",
    "    \n",
    "ax.bar(x,ClientRound4Time, bar_width, color=\"#0072BD\", align=\"center\", label=\"Verification cost\",edgecolor=\"#000000\")\n",
    "ax.bar(x+bar_width, ClientTotalTime, bar_width, align=\"center\", color=\"#D95319\", label=\"Total cost\",edgecolor=\"#000000\")\n",
    "\n",
    "plt.legend(loc=\"center left\",bbox_to_anchor=(0,0.84),fontsize=font)\n",
    "plt.text(0,103,'No dropout',fontsize=font)\n",
    "fig_width_pt = 300.0  # Get this from LaTeX using \\showthe\n",
    "inches_per_pt = 1.0 / 72.27 * 2  # Convert pt to inches\n",
    "golden_mean = ((np.math.sqrt(5) - 1.0) / 2.0)  # Aesthetic ratio\n",
    "fig_width = fig_width_pt * inches_per_pt  # width in inches\n",
    "fig_height = fig_width  # height in inches\n",
    "# fig_height = (fig_width * 1)  # height in inches\n",
    "fig_size = [0.95 * fig_width, 0.95 *fig_height]\n",
    "pdf_pages = PdfPages(os.path.join(\"plot/0dropoutU_100G.pdf\"))\n",
    "F = plt.gcf()\n",
    "F.set_size_inches(fig_size)\n",
    "pdf_pages.savefig(F, bbox_inches='tight', pad_inches=0.1)\n",
    "plt.clf()\n",
    "pdf_pages.close()"
   ]
  },
  {
   "cell_type": "code",
   "execution_count": 64,
   "metadata": {},
   "outputs": [
    {
     "data": {
      "text/plain": [
       "<Figure size 567.87x567.87 with 0 Axes>"
      ]
     },
     "metadata": {},
     "output_type": "display_data"
    }
   ],
   "source": [
    "#柱状图\n",
    "#30%dropout 梯度数固定为100用户数10-120 用户耗时随着用户数的改变情况\n",
    "DDF = []\n",
    "\n",
    "for i in range(startusers, endusers, interval):\n",
    "    filename = f'BENCHMARK/30dropout/benchmark_{i}c_drop_{int(i*7/10)}_{int(i*3/10)}.csv'\n",
    "    df = pd.read_csv(filename)\n",
    "    DDF.append(df)\n",
    "#plt.style.use('seaborn-whitegrid')\n",
    "#柱状图\n",
    "#30dropout\n",
    "font = 17\n",
    "fig = plt.figure()\n",
    "ax = plt.axes()\n",
    "\n",
    "plt.xlabel(\"Number of users\",fontsize=font)\n",
    "plt.ylabel(\"Running time per user (s)\",fontsize=font)\n",
    "bar_width = 0.4\n",
    "tick_label = list(range(startusers, endusers, interval))\n",
    "x = np.arange((endusers-startusers)/interval)\n",
    "plt.xticks(x+bar_width/2, tick_label,fontsize=font)\n",
    "plt.yticks(fontsize=font)\n",
    "\n",
    "ClientTotalTime = []\n",
    "ClientRound4Time = []\n",
    "for i, df in enumerate(DDF):\n",
    "    Round4Time = df[\"clientround4time\"].mean()\n",
    "    TotalTime = df[\"ClientTotalTime\"].mean()\n",
    "    ClientRound4Time.append(Round4Time)\n",
    "    ClientTotalTime.append(TotalTime)\n",
    "    \n",
    "ax.bar(x,ClientRound4Time, bar_width, color=\"#0072BD\", align=\"center\", label=\"Verification cost\",edgecolor=\"#000000\")\n",
    "ax.bar(x+bar_width, ClientTotalTime, bar_width, align=\"center\", color=\"#D95319\", label=\"Total cost\",edgecolor=\"#000000\")\n",
    "\n",
    "plt.legend(loc=\"center left\",bbox_to_anchor=(0,0.84),fontsize=font)\n",
    "plt.text(0,80,'30% dropout',fontsize=font)\n",
    "fig_width_pt = 300.0  # Get this from LaTeX using \\showthe\n",
    "inches_per_pt = 1.0 / 72.27 * 2  # Convert pt to inches\n",
    "golden_mean = ((np.math.sqrt(5) - 1.0) / 2.0)  # Aesthetic ratio\n",
    "fig_width = fig_width_pt * inches_per_pt  # width in inches\n",
    "fig_height = fig_width  # height in inches\n",
    "# fig_height = (fig_width * 1)  # height in inches\n",
    "fig_size = [0.95 * fig_width, 0.95 *fig_height]\n",
    "pdf_pages = PdfPages(os.path.join(\"plot/30dropoutU_100G.pdf\"))\n",
    "F = plt.gcf()\n",
    "F.set_size_inches(fig_size)\n",
    "pdf_pages.savefig(F, bbox_inches='tight', pad_inches=0.1)\n",
    "plt.clf()\n",
    "pdf_pages.close()"
   ]
  },
  {
   "cell_type": "code",
   "execution_count": 72,
   "metadata": {},
   "outputs": [
    {
     "data": {
      "text/plain": [
       "<Figure size 567.87x567.87 with 0 Axes>"
      ]
     },
     "metadata": {},
     "output_type": "display_data"
    }
   ],
   "source": [
    "#柱状图\n",
    "#0dropout 用户时间随着梯度300-3000的变化\n",
    "\n",
    "startusers = 300\n",
    "endusers = 3300\n",
    "interval = 300\n",
    "DDF = []\n",
    "\n",
    "for i in range(startusers, endusers, interval):\n",
    "    filename = f'BENCHMARK/gradient0/gradient020c_drop_20_0_{i}.csv'\n",
    "    df = pd.read_csv(filename)\n",
    "    DDF.append(df)\n",
    "#plt.style.use('seaborn-whitegrid')\n",
    "font = 17\n",
    "\n",
    "fig = plt.figure()\n",
    "ax = plt.axes()\n",
    "\n",
    "plt.xlabel(\"Number of gradients per user\",fontsize=15)\n",
    "plt.ylabel(\"Running time per user (s)\",fontsize=font)\n",
    "bar_width = 0.4\n",
    "tick_label = list(range(startusers, endusers, interval))\n",
    "x = np.arange((endusers-startusers)/interval)\n",
    "plt.xticks(x+bar_width/2, tick_label,fontsize=15)\n",
    "plt.yticks(fontsize=font)\n",
    "\n",
    "ClientTotalTime = []\n",
    "ClientRound4Time = []\n",
    "for i, df in enumerate(DDF):\n",
    "    Round4Time = df[\"clientround4time\"].mean()\n",
    "    TotalTime = df[\"ClientTotalTime\"].mean()\n",
    "    ClientRound4Time.append(Round4Time)\n",
    "    ClientTotalTime.append(TotalTime)\n",
    "    \n",
    "ax.bar(x,ClientRound4Time, bar_width, color=\"#0072BD\", align=\"center\", label=\"Verification cost\",edgecolor=\"#000000\")\n",
    "ax.bar(x+bar_width, ClientTotalTime, bar_width, align=\"center\", color=\"#D95319\", label=\"Total cost\",edgecolor=\"#000000\")\n",
    "\n",
    "plt.legend(loc=\"center left\",bbox_to_anchor=(0,0.84),fontsize=font)\n",
    "plt.text(0,57,'No dropout',fontsize=font)\n",
    "fig_width_pt = 300.0  # Get this from LaTeX using \\showthe\n",
    "inches_per_pt = 1.0 / 72.27 * 2  # Convert pt to inches\n",
    "golden_mean = ((np.math.sqrt(5) - 1.0) / 2.0)  # Aesthetic ratio\n",
    "fig_width = fig_width_pt * inches_per_pt  # width in inches\n",
    "fig_height = fig_width  # height in inches\n",
    "# fig_height = (fig_width * 1)  # height in inches\n",
    "fig_size = [0.95 * fig_width, 0.95 *fig_height]\n",
    "pdf_pages = PdfPages(os.path.join(\"plot/0dropoutG_20U.pdf\"))\n",
    "F = plt.gcf()\n",
    "F.set_size_inches(fig_size)\n",
    "pdf_pages.savefig(F, bbox_inches='tight', pad_inches=0.1)\n",
    "plt.clf()\n",
    "pdf_pages.close()"
   ]
  },
  {
   "cell_type": "code",
   "execution_count": 73,
   "metadata": {},
   "outputs": [
    {
     "data": {
      "text/plain": [
       "<Figure size 567.87x567.87 with 0 Axes>"
      ]
     },
     "metadata": {},
     "output_type": "display_data"
    }
   ],
   "source": [
    "#柱状图\n",
    "#30dropout 用户时间随着梯度300-3000的变化\n",
    "\n",
    "DDF = []\n",
    "startusers = 300\n",
    "endusers = 3300\n",
    "interval = 300\n",
    "for i in range(startusers, endusers, interval):\n",
    "    filename = f'BENCHMARK/gradient30/gradient3020c_drop_14_6_{i}.csv'\n",
    "    df = pd.read_csv(filename)\n",
    "    DDF.append(df)\n",
    "#plt.style.use('seaborn-whitegrid')\n",
    "font = 17\n",
    "\n",
    "fig = plt.figure()\n",
    "ax = plt.axes()\n",
    "\n",
    "plt.xlabel(\"Number of gradients per user\",fontsize=font)\n",
    "plt.ylabel(\"Running time per user (s)\",fontsize=font)\n",
    "bar_width = 0.4\n",
    "tick_label = list(range(startusers, endusers, interval))\n",
    "x = np.arange((endusers-startusers)/interval)\n",
    "plt.xticks(x+bar_width/2, tick_label,fontsize=15)\n",
    "plt.yticks(fontsize=font)\n",
    "\n",
    "\n",
    "ClientTotalTime = []\n",
    "ClientRound4Time = []\n",
    "for i, df in enumerate(DDF):\n",
    "    Round4Time = df[\"clientround4time\"].mean()\n",
    "    TotalTime = df[\"ClientTotalTime\"].mean()\n",
    "    ClientRound4Time.append(Round4Time)\n",
    "    ClientTotalTime.append(TotalTime)\n",
    "    \n",
    "ax.bar(x,ClientRound4Time, bar_width, color=\"#0072BD\", align=\"center\", label=\"Verification cost\",edgecolor=\"#000000\")\n",
    "ax.bar(x+bar_width, ClientTotalTime, bar_width, align=\"center\", color=\"#D95319\", label=\"Total cost\",edgecolor=\"#000000\")\n",
    "\n",
    "plt.legend(loc=\"center left\",bbox_to_anchor=(0,0.83),fontsize=font)\n",
    "plt.text(0,37,'30% dropout',fontsize=font)\n",
    "fig_width_pt = 300.0  # Get this from LaTeX using \\showthe\n",
    "inches_per_pt = 1.0 / 72.27 * 2  # Convert pt to inches\n",
    "golden_mean = ((np.math.sqrt(5) - 1.0) / 2.0)  # Aesthetic ratio\n",
    "fig_width = fig_width_pt * inches_per_pt  # width in inches\n",
    "fig_height = fig_width  # height in inches\n",
    "# fig_height = (fig_width * 1)  # height in inches\n",
    "fig_size = [0.95 * fig_width, 0.95 *fig_height]\n",
    "pdf_pages = PdfPages(os.path.join(\"plot/30dropoutG_20U.pdf\"))\n",
    "F = plt.gcf()\n",
    "F.set_size_inches(fig_size)\n",
    "pdf_pages.savefig(F, bbox_inches='tight', pad_inches=0.1)\n",
    "plt.clf()\n",
    "pdf_pages.close()"
   ]
  },
  {
   "cell_type": "code",
   "execution_count": 89,
   "metadata": {},
   "outputs": [],
   "source": [
    "#读入【梯度数固定为100，用户数10-120】数据\n",
    "DDF0 = []\n",
    "DDF10 = []\n",
    "DDF20 = []\n",
    "DDF30 = []\n",
    "startusers = 10\n",
    "endusers = 130\n",
    "interval = 10\n",
    "for i in range(startusers, endusers, interval):\n",
    "    filename0 = f'BENCHMARK/nodropout/good_{i}c_nodrop_l5ms.csv'\n",
    "    df0 = pd.read_csv(filename0)\n",
    "    DDF0.append(df0)\n",
    "    \n",
    "    filename10 = f'BENCHMARK/10dropout/benchmark_{i}c_drop_{int(i*9/10)}_{int(i*1/10)}.csv'\n",
    "    df10 = pd.read_csv(filename10)\n",
    "    DDF10.append(df10)\n",
    "    \n",
    "    filename20 = f'BENCHMARK/20dropout/benchmark_{i}c_drop_{int(i*8/10)}_{int(i*2/10)}.csv'\n",
    "    df20 = pd.read_csv(filename20)\n",
    "    DDF20.append(df20)\n",
    "    \n",
    "    filename30 = f'BENCHMARK/30dropout/benchmark_{i}c_drop_{int(i*7/10)}_{int(i*3/10)}.csv'\n",
    "    df30 = pd.read_csv(filename30)\n",
    "    DDF30.append(df30)\n"
   ]
  },
  {
   "cell_type": "code",
   "execution_count": 90,
   "metadata": {},
   "outputs": [
    {
     "name": "stdout",
     "output_type": "stream",
     "text": [
      "2.776974320411682\n",
      "6.287997404734294\n",
      "11.425508260726929\n",
      "18.27060317993164\n",
      "27.401824633280437\n",
      "36.99659586\n",
      "48.84154860333333\n",
      "64.26116347066345\n",
      "79.35083556175232\n",
      "96.78502893\n",
      "117.023202419281\n",
      "134.57611730000002\n"
     ]
    },
    {
     "data": {
      "text/plain": [
       "<Figure size 567.87x567.87 with 0 Axes>"
      ]
     },
     "metadata": {},
     "output_type": "display_data"
    }
   ],
   "source": [
    "#ServerRuntime 0 10 20 30 情况下服务器耗时折线图\n",
    "#折线图\n",
    "fig = plt.figure()\n",
    "ax = plt.axes()\n",
    "font = 17\n",
    "#plt.title('Runtime of server')\n",
    "plt.xlabel('Number of users',fontsize = font)\n",
    "plt.ylabel('Server running time (s)',fontsize = font)\n",
    "\n",
    "x = list(range(startusers, endusers, interval))\n",
    "ServerTotalTime0 = []\n",
    "ServerTotalTime10 = []\n",
    "ServerTotalTime20 = []\n",
    "ServerTotalTime30 = []\n",
    "for i, df in enumerate(DDF0):\n",
    "    TotalTime0 = df[\"ServerTotalTime\"].mean()\n",
    "    print(TotalTime0)\n",
    "    ServerTotalTime0.append(TotalTime0)\n",
    "for i, df in enumerate(DDF10):\n",
    "    TotalTime10 = df[\"ServerTotalTime\"].mean()\n",
    "    ServerTotalTime10.append(TotalTime10)\n",
    "for i, df in enumerate(DDF20):\n",
    "    TotalTime20 = df[\"ServerTotalTime\"].mean()\n",
    "    ServerTotalTime20.append(TotalTime20)\n",
    "for i, df in enumerate(DDF30):\n",
    "    TotalTime30 = df[\"ServerTotalTime\"].mean()\n",
    "    ServerTotalTime30.append(TotalTime30)\n",
    "    \n",
    "#print(ServerTotalTime0)\n",
    "ax.plot(x, ServerTotalTime0,color=\"#D95319\",marker=\"v\")\n",
    "ax.plot(x, ServerTotalTime10,color=\"#009A46\",marker=\"*\")\n",
    "ax.plot(x, ServerTotalTime20,color=\"#F2B800\",marker=\"s\")\n",
    "ax.plot(x, ServerTotalTime30,color=\"#0072BD\",marker=\"D\")\n",
    "ax.legend(['0% dropout','10% dropout','20% dropout','30% dropout'],fontsize = font)\n",
    "plt.xticks(fontsize = font)\n",
    "plt.yticks(fontsize = font)\n",
    "\n",
    "fig_width_pt = 300.0  # Get this from LaTeX using \\showthe\n",
    "inches_per_pt = 1.0 / 72.27 * 2  # Convert pt to inches\n",
    "golden_mean = ((np.math.sqrt(5) - 1.0) / 2.0)  # Aesthetic ratio\n",
    "fig_width = fig_width_pt * inches_per_pt  # width in inches\n",
    "fig_height = fig_width  # height in inches\n",
    "# fig_height = (fig_width * 1)  # height in inches\n",
    "fig_size = [0.95 * fig_width, 0.95 *fig_height]\n",
    "pdf_pages = PdfPages(os.path.join(\"plot/ServerRuntime100G.pdf\"))\n",
    "F = plt.gcf()\n",
    "F.set_size_inches(fig_size)\n",
    "pdf_pages.savefig(F, bbox_inches='tight', pad_inches=0.1)\n",
    "plt.clf()\n",
    "pdf_pages.close()"
   ]
  },
  {
   "cell_type": "code",
   "execution_count": null,
   "metadata": {},
   "outputs": [],
   "source": []
  },
  {
   "cell_type": "code",
   "execution_count": 91,
   "metadata": {},
   "outputs": [
    {
     "name": "stdout",
     "output_type": "stream",
     "text": [
      "1.3013359248638152\n",
      "3.7132000088691712\n",
      "7.787102124426099\n",
      "13.519801406065625\n",
      "20.68962746461233\n",
      "28.40774485\n",
      "38.256108743333336\n",
      "49.98033107473269\n",
      "62.35073579505639\n",
      "76.4548415\n",
      "90.35382103486496\n",
      "106.46435359999998\n"
     ]
    },
    {
     "data": {
      "text/plain": [
       "<Figure size 567.87x567.87 with 0 Axes>"
      ]
     },
     "metadata": {},
     "output_type": "display_data"
    }
   ],
   "source": [
    "#ClientRuntime 0 10 20 30 情况下客户端耗时折线图\n",
    "#折线图\n",
    "fig = plt.figure()\n",
    "ax = plt.axes()\n",
    "font=17\n",
    "#plt.title('Runtime of server')\n",
    "plt.xlabel('Number of users',fontsize = font)\n",
    "plt.ylabel('Running time per user (s)',fontsize = font)\n",
    "\n",
    "x = list(range(startusers, endusers, interval))\n",
    "UserTotalTime0 = []\n",
    "UserTotalTime10 = []\n",
    "UserTotalTime20 = []\n",
    "UserTotalTime30 = []\n",
    "for i, df in enumerate(DDF0):\n",
    "    TotalTime0 = df[\"ClientTotalTime\"].mean()\n",
    "    print(TotalTime0)\n",
    "    UserTotalTime0.append(TotalTime0)\n",
    "for i, df in enumerate(DDF10):\n",
    "    TotalTime10 = df[\"ClientTotalTime\"].mean()\n",
    "    UserTotalTime10.append(TotalTime10)\n",
    "for i, df in enumerate(DDF20):\n",
    "    TotalTime20 = df[\"ClientTotalTime\"].mean()\n",
    "    UserTotalTime20.append(TotalTime20)\n",
    "for i, df in enumerate(DDF30):\n",
    "    TotalTime30 = df[\"ClientTotalTime\"].mean()\n",
    "    UserTotalTime30.append(TotalTime30)\n",
    "    \n",
    "#print(ServerTotalTime0)\n",
    "ax.plot(x, UserTotalTime0,color=\"#D95319\",marker=\"v\")\n",
    "ax.plot(x, UserTotalTime10,color=\"#009A46\",marker=\"*\")\n",
    "ax.plot(x, UserTotalTime20,color=\"#F2B800\",marker=\"s\")\n",
    "ax.plot(x, UserTotalTime30,color=\"#0072BD\",marker=\"D\")\n",
    "ax.legend(['0% dropout','10% dropout','20% dropout','30% dropout'],fontsize = font)\n",
    "plt.xticks(fontsize = font)\n",
    "plt.yticks(fontsize = font)\n",
    "\n",
    "\n",
    "fig_width_pt = 300.0  # Get this from LaTeX using \\showthe\n",
    "inches_per_pt = 1.0 / 72.27 * 2  # Convert pt to inches\n",
    "golden_mean = ((np.math.sqrt(5) - 1.0) / 2.0)  # Aesthetic ratio\n",
    "fig_width = fig_width_pt * inches_per_pt  # width in inches\n",
    "fig_height = fig_width  # height in inches\n",
    "# fig_height = (fig_width * 1)  # height in inches\n",
    "fig_size = [0.95 * fig_width, 0.95 *fig_height]\n",
    "pdf_pages = PdfPages(os.path.join(\"plot/UserRuntime100G.pdf\"))\n",
    "F = plt.gcf()\n",
    "F.set_size_inches(fig_size)\n",
    "pdf_pages.savefig(F, bbox_inches='tight', pad_inches=0.1)\n",
    "plt.clf()\n",
    "pdf_pages.close()"
   ]
  },
  {
   "cell_type": "code",
   "execution_count": 92,
   "metadata": {},
   "outputs": [],
   "source": [
    "#读入数据 【用户数固定为20，梯度数500-3000，，，指标随着梯度数量的变化而变化】\n",
    "DDF0 = []\n",
    "DDF10 = []\n",
    "DDF20 = []\n",
    "DDF30 = []\n",
    "startusers = 300\n",
    "endusers = 3300\n",
    "interval = 300\n",
    "\n",
    "for i in range(startusers, endusers, interval):\n",
    "    filename0 = f'BENCHMARK/gradient0/gradient020c_drop_20_0_{i}.csv'\n",
    "    df0 = pd.read_csv(filename0)\n",
    "    DDF0.append(df0)\n",
    "    \n",
    "    filename10 = f'BENCHMARK/gradient10/gradient1020c_drop_18_2_{i}.csv'\n",
    "    df10 = pd.read_csv(filename10)\n",
    "    DDF10.append(df10)\n",
    "    \n",
    "    filename20 = f'BENCHMARK/gradient20/gradient2020c_drop_16_4_{i}.csv'\n",
    "    df20 = pd.read_csv(filename20)\n",
    "    DDF20.append(df20)\n",
    "    \n",
    "    filename30 = f'BENCHMARK/gradient30/gradient3020c_drop_14_6_{i}.csv'\n",
    "    df30 = pd.read_csv(filename30)\n",
    "    DDF30.append(df30)"
   ]
  },
  {
   "cell_type": "code",
   "execution_count": 93,
   "metadata": {},
   "outputs": [
    {
     "data": {
      "text/plain": [
       "<Figure size 567.87x567.87 with 0 Axes>"
      ]
     },
     "metadata": {},
     "output_type": "display_data"
    }
   ],
   "source": [
    "#梯度从300-3000 不同dropout0、10、20、30情况下server的耗时折线图\n",
    "fig = plt.figure()\n",
    "ax = plt.axes()\n",
    "font=17\n",
    "#plt.title('Runtime of server')\n",
    "plt.xlabel('Number of gradients per user',fontsize=font)\n",
    "plt.ylabel('Server running time (s)',fontsize=font)\n",
    "\n",
    "x = list(range(startusers, endusers, interval))\n",
    "ServerTotalTime0 = []\n",
    "ServerTotalTime10 = []\n",
    "ServerTotalTime20 = []\n",
    "ServerTotalTime30 = []\n",
    "for i, df in enumerate(DDF0):\n",
    "    TotalTime0 = df[\"ServerTotalTime\"].mean()\n",
    "    #print(TotalTime0)\n",
    "    ServerTotalTime0.append(TotalTime0)\n",
    "for i, df in enumerate(DDF10):\n",
    "    TotalTime10 = df[\"ServerTotalTime\"].mean()\n",
    "    ServerTotalTime10.append(TotalTime10)\n",
    "for i, df in enumerate(DDF20):\n",
    "    TotalTime20 = df[\"ServerTotalTime\"].mean()\n",
    "    ServerTotalTime20.append(TotalTime20)\n",
    "for i, df in enumerate(DDF30):\n",
    "    TotalTime30 = df[\"ServerTotalTime\"].mean()\n",
    "    ServerTotalTime30.append(TotalTime30)\n",
    "    \n",
    "#print(ServerTotalTime0)\n",
    "ax.plot(x, ServerTotalTime0,color=\"#D95319\",marker=\"v\")\n",
    "ax.plot(x, ServerTotalTime10,color=\"#009A46\",marker=\"*\")\n",
    "ax.plot(x, ServerTotalTime20,color=\"#F2B800\",marker=\"s\")\n",
    "ax.plot(x, ServerTotalTime30,color=\"#0072BD\",marker=\"D\")\n",
    "ax.legend(['0% dropout','10% dropout','20% dropout','30% dropout'],fontsize=font)\n",
    "plt.xticks(fontsize = font)\n",
    "plt.yticks(fontsize = font)\n",
    "\n",
    "fig_width_pt = 300.0  # Get this from LaTeX using \\showthe\n",
    "inches_per_pt = 1.0 / 72.27 * 2  # Convert pt to inches\n",
    "golden_mean = ((np.math.sqrt(5) - 1.0) / 2.0)  # Aesthetic ratio\n",
    "fig_width = fig_width_pt * inches_per_pt  # width in inches\n",
    "fig_height = fig_width  # height in inches\n",
    "# fig_height = (fig_width * 1)  # height in inches\n",
    "fig_size = [0.95 * fig_width, 0.95 *fig_height]\n",
    "pdf_pages = PdfPages(os.path.join(\"plot/ServerRuntime20U.pdf\"))\n",
    "F = plt.gcf()\n",
    "F.set_size_inches(fig_size)\n",
    "pdf_pages.savefig(F, bbox_inches='tight', pad_inches=0.1)\n",
    "plt.clf()\n",
    "pdf_pages.close()"
   ]
  },
  {
   "cell_type": "code",
   "execution_count": 94,
   "metadata": {},
   "outputs": [
    {
     "data": {
      "text/plain": [
       "<Figure size 567.87x567.87 with 0 Axes>"
      ]
     },
     "metadata": {},
     "output_type": "display_data"
    }
   ],
   "source": [
    "#梯度500-3000 U=20 用户耗时随着梯度数的变化折线图\n",
    "#折线图\n",
    "fig = plt.figure()\n",
    "ax = plt.axes()\n",
    "font=17\n",
    "#plt.title('Runtime of server')\n",
    "plt.xlabel('Number of gradients per user',fontsize=font)\n",
    "plt.ylabel('Running time per user (s)',fontsize=font)\n",
    "\n",
    "x = list(range(startusers, endusers, interval))\n",
    "UserTotalTime0 = []\n",
    "UserTotalTime10 = []\n",
    "UserTotalTime20 = []\n",
    "UserTotalTime30 = []\n",
    "for i, df in enumerate(DDF0):\n",
    "    TotalTime0 = df[\"ClientTotalTime\"].mean()\n",
    "    #print(TotalTime0)\n",
    "    UserTotalTime0.append(TotalTime0)\n",
    "for i, df in enumerate(DDF10):\n",
    "    TotalTime10 = df[\"ClientTotalTime\"].mean()\n",
    "    UserTotalTime10.append(TotalTime10)\n",
    "for i, df in enumerate(DDF20):\n",
    "    TotalTime20 = df[\"ClientTotalTime\"].mean()\n",
    "    UserTotalTime20.append(TotalTime20)\n",
    "for i, df in enumerate(DDF30):\n",
    "    TotalTime30 = df[\"ClientTotalTime\"].mean()\n",
    "    UserTotalTime30.append(TotalTime30)\n",
    "    \n",
    "#print(ServerTotalTime0)\n",
    "ax.plot(x, UserTotalTime0,color=\"#D95319\",marker=\"v\")\n",
    "ax.plot(x, UserTotalTime10,color=\"#009A46\",marker=\"*\")\n",
    "ax.plot(x, UserTotalTime20,color=\"#F2B800\",marker=\"s\")\n",
    "ax.plot(x, UserTotalTime30,color=\"#0072BD\",marker=\"D\")\n",
    "ax.legend(['0% dropout','10% dropout','20% dropout','30% dropout'],fontsize=font)\n",
    "plt.xticks(fontsize = font)\n",
    "plt.yticks(fontsize = font)\n",
    "\n",
    "fig_width_pt = 300.0  # Get this from LaTeX using \\showthe\n",
    "inches_per_pt = 1.0 / 72.27 * 2  # Convert pt to inches\n",
    "golden_mean = ((np.math.sqrt(5) - 1.0) / 2.0)  # Aesthetic ratio\n",
    "fig_width = fig_width_pt * inches_per_pt  # width in inches\n",
    "fig_height = fig_width  # height in inches\n",
    "# fig_height = (fig_width * 1)  # height in inches\n",
    "fig_size = [0.95 * fig_width, 0.95 *fig_height]\n",
    "pdf_pages = PdfPages(os.path.join(\"plot/UserRuntime20U.pdf\"))\n",
    "F = plt.gcf()\n",
    "F.set_size_inches(fig_size)\n",
    "pdf_pages.savefig(F, bbox_inches='tight', pad_inches=0.1)\n",
    "plt.clf()\n",
    "pdf_pages.close()"
   ]
  },
  {
   "cell_type": "code",
   "execution_count": 91,
   "metadata": {},
   "outputs": [
    {
     "data": {
      "text/plain": [
       "<Figure size 567.87x350.963 with 0 Axes>"
      ]
     },
     "metadata": {},
     "output_type": "display_data"
    }
   ],
   "source": []
  },
  {
   "cell_type": "code",
   "execution_count": 86,
   "metadata": {},
   "outputs": [
    {
     "data": {
      "text/plain": [
       "<Figure size 567.87x350.963 with 0 Axes>"
      ]
     },
     "metadata": {},
     "output_type": "display_data"
    }
   ],
   "source": []
  },
  {
   "cell_type": "code",
   "execution_count": null,
   "metadata": {},
   "outputs": [],
   "source": []
  }
 ],
 "metadata": {
  "kernelspec": {
   "display_name": "Python 3",
   "language": "python",
   "name": "python3"
  },
  "language_info": {
   "codemirror_mode": {
    "name": "ipython",
    "version": 3
   },
   "file_extension": ".py",
   "mimetype": "text/x-python",
   "name": "python",
   "nbconvert_exporter": "python",
   "pygments_lexer": "ipython3",
   "version": "3.6.5"
  }
 },
 "nbformat": 4,
 "nbformat_minor": 2
}
