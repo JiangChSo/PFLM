{
 "cells": [
  {
   "cell_type": "code",
   "execution_count": 2,
   "metadata": {},
   "outputs": [],
   "source": [
    "import csv\n",
    "import pandas as pd\n",
    "from collections import Counter\n",
    "import numpy as np\n",
    "import os\n",
    "import matplotlib.pyplot as plt\n",
    "from matplotlib.backends.backend_pdf import PdfPages"
   ]
  },
  {
   "cell_type": "code",
   "execution_count": 31,
   "metadata": {},
   "outputs": [],
   "source": [
    "#读入【梯度数固定为100，用户数10-120】数据\n",
    "DDF0 = []\n",
    "DDF10 = []\n",
    "DDF20 = []\n",
    "DDF30 = []\n",
    "startusers = 10\n",
    "endusers = 130\n",
    "interval = 10\n",
    "for i in range(startusers, endusers, interval):\n",
    "    filename0 = f'BENCHMARK/nodropout/good_{i}c_nodrop_l5ms.csv'\n",
    "    df0 = pd.read_csv(filename0)\n",
    "    DDF0.append(df0)\n",
    "    \n",
    "    filename10 = f'BENCHMARK/10dropout/benchmark_{i}c_drop_{int(i*9/10)}_{int(i*1/10)}.csv'\n",
    "    df10 = pd.read_csv(filename10)\n",
    "    DDF10.append(df10)\n",
    "    \n",
    "    filename20 = f'BENCHMARK/20dropout/benchmark_{i}c_drop_{int(i*8/10)}_{int(i*2/10)}.csv'\n",
    "    df20 = pd.read_csv(filename20)\n",
    "    DDF20.append(df20)\n",
    "    \n",
    "    filename30 = f'BENCHMARK/30dropout/benchmark_{i}c_drop_{int(i*7/10)}_{int(i*3/10)}.csv'\n",
    "    df30 = pd.read_csv(filename30)\n",
    "    DDF30.append(df30)\n"
   ]
  },
  {
   "cell_type": "code",
   "execution_count": 4,
   "metadata": {},
   "outputs": [
    {
     "name": "stdout",
     "output_type": "stream",
     "text": [
      "308.1050537109375\n",
      "590.1637532552083\n",
      "873.1399739583334\n",
      "1153.941650390625\n",
      "1439.2585221354166\n",
      "1720.1821290780001\n",
      "2000.924298087238\n",
      "2281.7700254695314\n",
      "2572.3242151331024\n",
      "2852.972577855\n",
      "3134.3405095880685\n",
      "3410.22753948\n"
     ]
    },
    {
     "data": {
      "text/plain": [
       "<Figure size 567.87x567.87 with 0 Axes>"
      ]
     },
     "metadata": {},
     "output_type": "display_data"
    }
   ],
   "source": [
    "#用户通信开销数据折线图 0 10 20 30 情况\n",
    "#折线图\n",
    "fig = plt.figure()\n",
    "ax = plt.axes()\n",
    "font = 17\n",
    "#plt.title('Runtime of server')\n",
    "plt.xlabel('Number of users',fontsize = font)\n",
    "plt.ylabel('Total transmitted data per user (KB)',fontsize = font)\n",
    "\n",
    "x = list(range(startusers, endusers, interval))\n",
    "ServerTotalTime0 = []\n",
    "ServerTotalTime10 = []\n",
    "ServerTotalTime20 = []\n",
    "ServerTotalTime30 = []\n",
    "for i, df in enumerate(DDF0):\n",
    "    TotalTime0 = df[\"clientround0totalsize\"].mean()+df[\"clientround1totalsize\"].mean()+df[\"clientround2totalsize\"].mean()+df[\"clientround3totalsize\"].mean()+df[\"Round0totalsize\"].mean()+df[\"Round1totalsize\"].mean()/((i+1)*10)+df[\"Round2totalsize\"].mean()+df[\"Round3totalsize\"].mean()\n",
    "    print(TotalTime0)\n",
    "    ServerTotalTime0.append(TotalTime0)\n",
    "for i, df in enumerate(DDF10):\n",
    "    TotalTime10 = df[\"clientround0totalsize\"].mean()+df[\"clientround1totalsize\"].mean()+df[\"clientround2totalsize\"].mean()+df[\"clientround3totalsize\"].mean()+df[\"Round0totalsize\"].mean()+df[\"Round1totalsize\"].mean()/((i+1)*10)+df[\"Round2totalsize\"].mean()+df[\"Round3totalsize\"].mean()\n",
    "    ServerTotalTime10.append(TotalTime10)\n",
    "for i, df in enumerate(DDF20):\n",
    "    TotalTime20 = df[\"clientround0totalsize\"].mean()+df[\"clientround1totalsize\"].mean()+df[\"clientround2totalsize\"].mean()+df[\"clientround3totalsize\"].mean()+df[\"Round0totalsize\"].mean()+df[\"Round1totalsize\"].mean()/((i+1)*10)+df[\"Round2totalsize\"].mean()+df[\"Round3totalsize\"].mean()\n",
    "    ServerTotalTime20.append(TotalTime20)\n",
    "for i, df in enumerate(DDF30):\n",
    "    TotalTime30 = df[\"clientround0totalsize\"].mean()+df[\"clientround1totalsize\"].mean()+df[\"clientround2totalsize\"].mean()+df[\"clientround3totalsize\"].mean()+df[\"Round0totalsize\"].mean()+df[\"Round1totalsize\"].mean()/((i+1)*10)+df[\"Round2totalsize\"].mean()+df[\"Round3totalsize\"].mean()\n",
    "    ServerTotalTime30.append(TotalTime30)\n",
    "    \n",
    "#print(ServerTotalTime0)\n",
    "ax.plot(x, ServerTotalTime0,color=\"#D95319\",marker=\"v\")\n",
    "ax.plot(x, ServerTotalTime10,color=\"#009A46\",marker=\"*\")\n",
    "ax.plot(x, ServerTotalTime20,color=\"#F2B800\",marker=\"s\")\n",
    "ax.plot(x, ServerTotalTime30,color=\"#0072BD\",marker=\"D\")\n",
    "ax.legend(['0% dropout','10% dropout','20% dropout','30% dropout'],fontsize = font)\n",
    "plt.xticks(fontsize = font)\n",
    "plt.yticks(fontsize = font)\n",
    "\n",
    "fig_width_pt = 300.0  # Get this from LaTeX using \\showthe\n",
    "inches_per_pt = 1.0 / 72.27 * 2  # Convert pt to inches\n",
    "golden_mean = ((np.math.sqrt(5) - 1.0) / 2.0)  # Aesthetic ratio\n",
    "fig_width = fig_width_pt * inches_per_pt  # width in inches\n",
    "fig_height = fig_width  # height in inches\n",
    "# fig_height = (fig_width * 1)  # height in inches\n",
    "fig_size = [0.95 * fig_width, 0.95 *fig_height]\n",
    "pdf_pages = PdfPages(os.path.join(\"plot/Usertotalsize100G.pdf\"))\n",
    "F = plt.gcf()\n",
    "F.set_size_inches(fig_size)\n",
    "pdf_pages.savefig(F, bbox_inches='tight', pad_inches=0.1)\n",
    "plt.clf()\n",
    "pdf_pages.close()"
   ]
  },
  {
   "cell_type": "code",
   "execution_count": 32,
   "metadata": {},
   "outputs": [
    {
     "name": "stdout",
     "output_type": "stream",
     "text": [
      "981.132568359375\n",
      "3040.2177734375\n",
      "6205.666015624999\n",
      "10403.755859375\n",
      "15831.097330729168\n",
      "22187.564452338\n",
      "29624.585615746666\n",
      "38118.6469716825\n",
      "48317.80240885419\n",
      "58998.33984744\n",
      "70769.12597656253\n",
      "83565.44335771\n"
     ]
    },
    {
     "data": {
      "text/plain": [
       "<Figure size 567.87x567.87 with 0 Axes>"
      ]
     },
     "metadata": {},
     "output_type": "display_data"
    }
   ],
   "source": [
    "#服务器通信开销折线图 0 10 20 30 情况\n",
    "#折线图\n",
    "fig = plt.figure()\n",
    "ax = plt.axes()\n",
    "font = 17\n",
    "#plt.title('Runtime of server')\n",
    "plt.xlabel('Number of users',fontsize = font)\n",
    "plt.ylabel('Total transmitted data of server (MB)',fontsize = font)\n",
    "\n",
    "x = list(range(startusers, endusers, interval))\n",
    "ServerTotalTime0 = []\n",
    "ServerTotalTime10 = []\n",
    "ServerTotalTime20 = []\n",
    "ServerTotalTime30 = []\n",
    "for i, df in enumerate(DDF0):\n",
    "    TotalTime0 = ((i+1)*10)*df[\"clientround0totalsize\"].mean()+((i+1)*10)*df[\"clientround1totalsize\"].mean()+((i+1)*10)*df[\"clientround2totalsize\"].mean()+((i+1)*10)*df[\"clientround3totalsize\"].mean()+df[\"Round0totalsize\"].mean()+df[\"Round1totalsize\"].mean()+df[\"Round2totalsize\"].mean()+df[\"Round3totalsize\"].mean()\n",
    "    print(TotalTime0)\n",
    "    ServerTotalTime0.append(TotalTime0/1024)\n",
    "for i, df in enumerate(DDF10):\n",
    "    TotalTime10 = ((i+1)*10)*df[\"clientround0totalsize\"].mean()+((i+1)*10)*df[\"clientround1totalsize\"].mean()+((i+1)*9)*df[\"clientround2totalsize\"].mean()+((i+1)*9)*df[\"clientround3totalsize\"].mean()+df[\"Round0totalsize\"].mean()+df[\"Round1totalsize\"].mean()+df[\"Round2totalsize\"].mean()+df[\"Round3totalsize\"].mean()\n",
    "    ServerTotalTime10.append(TotalTime10/1024)\n",
    "for i, df in enumerate(DDF20):\n",
    "    TotalTime20 = ((i+1)*10)*df[\"clientround0totalsize\"].mean()+((i+1)*10)*df[\"clientround1totalsize\"].mean()+((i+1)*8)*df[\"clientround2totalsize\"].mean()+((i+1)*8)*df[\"clientround3totalsize\"].mean()+df[\"Round0totalsize\"].mean()+df[\"Round1totalsize\"].mean()+df[\"Round2totalsize\"].mean()+df[\"Round3totalsize\"].mean()\n",
    "    ServerTotalTime20.append(TotalTime20/1024)\n",
    "for i, df in enumerate(DDF30):\n",
    "    TotalTime30 = ((i+1)*10)*df[\"clientround0totalsize\"].mean()+((i+1)*10)*df[\"clientround1totalsize\"].mean()+((i+1)*7)*df[\"clientround2totalsize\"].mean()+((i+1)*7)*df[\"clientround3totalsize\"].mean()+df[\"Round0totalsize\"].mean()+df[\"Round1totalsize\"].mean()+df[\"Round2totalsize\"].mean()+df[\"Round3totalsize\"].mean()\n",
    "    ServerTotalTime30.append(TotalTime30/1024)\n",
    "    \n",
    "#print(ServerTotalTime0)\n",
    "ax.plot(x, ServerTotalTime0,color=\"#D95319\",marker=\"v\")\n",
    "ax.plot(x, ServerTotalTime10,color=\"#009A46\",marker=\"*\")\n",
    "ax.plot(x, ServerTotalTime20,color=\"#F2B800\",marker=\"s\")\n",
    "ax.plot(x, ServerTotalTime30,color=\"#0072BD\",marker=\"D\")\n",
    "ax.legend(['0% dropout','10% dropout','20% dropout','30% dropout'],fontsize = font)\n",
    "plt.xticks(fontsize = font)\n",
    "plt.yticks(fontsize = font)\n",
    "\n",
    "fig_width_pt = 300.0  # Get this from LaTeX using \\showthe\n",
    "inches_per_pt = 1.0 / 72.27 * 2  # Convert pt to inches\n",
    "golden_mean = ((np.math.sqrt(5) - 1.0) / 2.0)  # Aesthetic ratio\n",
    "fig_width = fig_width_pt * inches_per_pt  # width in inches\n",
    "fig_height = fig_width  # height in inches\n",
    "# fig_height = (fig_width * 1)  # height in inches\n",
    "fig_size = [0.95 * fig_width, 0.95 *fig_height]\n",
    "pdf_pages = PdfPages(os.path.join(\"plot/Servertotalsize100G.pdf\"))\n",
    "F = plt.gcf()\n",
    "F.set_size_inches(fig_size)\n",
    "pdf_pages.savefig(F, bbox_inches='tight', pad_inches=0.1)\n",
    "plt.clf()\n",
    "pdf_pages.close()"
   ]
  },
  {
   "cell_type": "code",
   "execution_count": 33,
   "metadata": {},
   "outputs": [],
   "source": [
    "#读入数据 【用户数固定为20，梯度数500-3000，，，指标随着梯度数量的变化而变化】\n",
    "DDF0 = []\n",
    "DDF10 = []\n",
    "DDF20 = []\n",
    "DDF30 = []\n",
    "startusers = 300\n",
    "endusers = 3300\n",
    "interval = 300\n",
    "\n",
    "for i in range(startusers, endusers, interval):\n",
    "    filename0 = f'BENCHMARK/gradient0/gradient020c_drop_20_0_{i}.csv'\n",
    "    df0 = pd.read_csv(filename0)\n",
    "    DDF0.append(df0)\n",
    "    \n",
    "    filename10 = f'BENCHMARK/gradient10/gradient1020c_drop_18_2_{i}.csv'\n",
    "    df10 = pd.read_csv(filename10)\n",
    "    DDF10.append(df10)\n",
    "    \n",
    "    filename20 = f'BENCHMARK/gradient20/gradient2020c_drop_16_4_{i}.csv'\n",
    "    df20 = pd.read_csv(filename20)\n",
    "    DDF20.append(df20)\n",
    "    \n",
    "    filename30 = f'BENCHMARK/gradient30/gradient3020c_drop_14_6_{i}.csv'\n",
    "    df30 = pd.read_csv(filename30)\n",
    "    DDF30.append(df30)"
   ]
  },
  {
   "cell_type": "code",
   "execution_count": 9,
   "metadata": {},
   "outputs": [
    {
     "name": "stdout",
     "output_type": "stream",
     "text": [
      "1481.608251953125\n",
      "2722.1662109375\n",
      "3974.6935384114586\n",
      "5224.935400390625\n",
      "6501.96513671875\n",
      "7733.869596354167\n",
      "9060.898172433035\n",
      "10323.488623046875\n",
      "11598.652045355902\n",
      "12887.287939453125\n"
     ]
    },
    {
     "data": {
      "text/plain": [
       "<Figure size 567.87x567.87 with 0 Axes>"
      ]
     },
     "metadata": {},
     "output_type": "display_data"
    }
   ],
   "source": [
    "#梯度从300-3000 不同dropout0、10、20、30情况下用户通信开销折线图\n",
    "fig = plt.figure()\n",
    "ax = plt.axes()\n",
    "font=17\n",
    "#plt.title('Runtime of server')\n",
    "plt.xlabel('Number of gradients per user',fontsize=font)\n",
    "plt.ylabel('Total transmitted data per user (KB)',fontsize=font)\n",
    "N=20#用户数\n",
    "x = list(range(startusers, endusers, interval))\n",
    "UserTotalTime0 = []\n",
    "UserTotalTime10 = []\n",
    "UserTotalTime20 = []\n",
    "UserTotalTime30 = []\n",
    "for i, df in enumerate(DDF0):\n",
    "    TotalTime0 = df[\"clientround0totalsize\"].mean()+df[\"clientround1totalsize\"].mean()+df[\"clientround2totalsize\"].mean()+df[\"clientround3totalsize\"].mean()+df[\"Round0totalsize\"].mean()+df[\"Round1totalsize\"].mean()/N+df[\"Round2totalsize\"].mean()+df[\"Round3totalsize\"].mean()\n",
    "    print(TotalTime0)\n",
    "    UserTotalTime0.append(TotalTime0)\n",
    "for i, df in enumerate(DDF10):\n",
    "    TotalTime10 = df[\"clientround0totalsize\"].mean()+df[\"clientround1totalsize\"].mean()+df[\"clientround2totalsize\"].mean()+df[\"clientround3totalsize\"].mean()+df[\"Round0totalsize\"].mean()+df[\"Round1totalsize\"].mean()/N+df[\"Round2totalsize\"].mean()+df[\"Round3totalsize\"].mean()\n",
    "    UserTotalTime10.append(TotalTime10)\n",
    "for i, df in enumerate(DDF20):\n",
    "    TotalTime20 = df[\"clientround0totalsize\"].mean()+df[\"clientround1totalsize\"].mean()+df[\"clientround2totalsize\"].mean()+df[\"clientround3totalsize\"].mean()+df[\"Round0totalsize\"].mean()+df[\"Round1totalsize\"].mean()/N+df[\"Round2totalsize\"].mean()+df[\"Round3totalsize\"].mean()\n",
    "    UserTotalTime20.append(TotalTime20)\n",
    "for i, df in enumerate(DDF30):\n",
    "    TotalTime30 = df[\"clientround0totalsize\"].mean()+df[\"clientround1totalsize\"].mean()+df[\"clientround2totalsize\"].mean()+df[\"clientround3totalsize\"].mean()+df[\"Round0totalsize\"].mean()+df[\"Round1totalsize\"].mean()/N+df[\"Round2totalsize\"].mean()+df[\"Round3totalsize\"].mean()\n",
    "    UserTotalTime30.append(TotalTime30)\n",
    "    \n",
    "#print(ServerTotalTime0)\n",
    "ax.plot(x, UserTotalTime0,color=\"#D95319\",marker=\"v\")\n",
    "ax.plot(x, UserTotalTime10,color=\"#009A46\",marker=\"*\")\n",
    "ax.plot(x, UserTotalTime20,color=\"#F2B800\",marker=\"s\")\n",
    "ax.plot(x, UserTotalTime30,color=\"#0072BD\",marker=\"D\")\n",
    "ax.legend(['0% dropout','10% dropout','20% dropout','30% dropout'],fontsize=font)\n",
    "plt.xticks(fontsize = font)\n",
    "plt.yticks(fontsize = font)\n",
    "\n",
    "fig_width_pt = 300.0  # Get this from LaTeX using \\showthe\n",
    "inches_per_pt = 1.0 / 72.27 * 2  # Convert pt to inches\n",
    "golden_mean = ((np.math.sqrt(5) - 1.0) / 2.0)  # Aesthetic ratio\n",
    "fig_width = fig_width_pt * inches_per_pt  # width in inches\n",
    "fig_height = fig_width  # height in inches\n",
    "# fig_height = (fig_width * 1)  # height in inches\n",
    "fig_size = [0.95 * fig_width, 0.95 *fig_height]\n",
    "pdf_pages = PdfPages(os.path.join(\"plot/Usertotalsize20U.pdf\"))\n",
    "F = plt.gcf()\n",
    "F.set_size_inches(fig_size)\n",
    "pdf_pages.savefig(F, bbox_inches='tight', pad_inches=0.1)\n",
    "plt.clf()\n",
    "pdf_pages.close()"
   ]
  },
  {
   "cell_type": "code",
   "execution_count": 29,
   "metadata": {},
   "outputs": [
    {
     "name": "stdout",
     "output_type": "stream",
     "text": [
      "18676.408203125\n",
      "32448.828125\n",
      "46103.791015625015\n",
      "59703.63476562501\n",
      "73442.20703125001\n",
      "86901.78125\n",
      "100917.0625\n",
      "114552.767578125\n",
      "128258.20898437496\n",
      "142044.22851562503\n"
     ]
    },
    {
     "data": {
      "text/plain": [
       "<Figure size 567.87x567.87 with 0 Axes>"
      ]
     },
     "metadata": {},
     "output_type": "display_data"
    }
   ],
   "source": [
    "#梯度从300-3000 不同dropout0、10、20、30情况下server的通信开销折线图\n",
    "fig = plt.figure()\n",
    "ax = plt.axes()\n",
    "font=17\n",
    "#plt.title('Runtime of server')\n",
    "plt.xlabel('Number of gradients per user',fontsize=font)\n",
    "plt.ylabel('Total transmitted data of server (MB)',fontsize = font)\n",
    "N = 20#用户数\n",
    "x = list(range(startusers, endusers, interval))\n",
    "ServerTotalTime0 = []\n",
    "ServerTotalTime10 = []\n",
    "ServerTotalTime20 = []\n",
    "ServerTotalTime30 = []\n",
    "for i, df in enumerate(DDF0):\n",
    "    TotalTime0 = N*df[\"clientround0totalsize\"].mean()+N*df[\"clientround1totalsize\"].mean()+(N*10)*df[\"clientround2totalsize\"].mean()+(N*10)*df[\"clientround3totalsize\"].mean()+df[\"Round0totalsize\"].mean()+df[\"Round1totalsize\"].mean()+df[\"Round2totalsize\"].mean()+df[\"Round3totalsize\"].mean()\n",
    "    print(TotalTime0)\n",
    "    ServerTotalTime0.append(TotalTime0/1024)\n",
    "for i, df in enumerate(DDF10):\n",
    "    TotalTime10 =N*df[\"clientround0totalsize\"].mean()+N*df[\"clientround1totalsize\"].mean()+(N*9)*df[\"clientround2totalsize\"].mean()+(N*9)*df[\"clientround3totalsize\"].mean()+df[\"Round0totalsize\"].mean()+df[\"Round1totalsize\"].mean()+df[\"Round2totalsize\"].mean()+df[\"Round3totalsize\"].mean()\n",
    "    ServerTotalTime10.append(TotalTime10/1024)\n",
    "for i, df in enumerate(DDF20):\n",
    "    TotalTime20 = N*df[\"clientround0totalsize\"].mean()+N*df[\"clientround1totalsize\"].mean()+(N*8)*df[\"clientround2totalsize\"].mean()+(N*8)*df[\"clientround3totalsize\"].mean()+df[\"Round0totalsize\"].mean()+df[\"Round1totalsize\"].mean()+df[\"Round2totalsize\"].mean()+df[\"Round3totalsize\"].mean()\n",
    "    ServerTotalTime20.append(TotalTime20/1024)\n",
    "for i, df in enumerate(DDF30):\n",
    "    TotalTime30 = N*df[\"clientround0totalsize\"].mean()+N*df[\"clientround1totalsize\"].mean()+(N*7)*df[\"clientround2totalsize\"].mean()+(N*7)*df[\"clientround3totalsize\"].mean()+df[\"Round0totalsize\"].mean()+df[\"Round1totalsize\"].mean()+df[\"Round2totalsize\"].mean()+df[\"Round3totalsize\"].mean()\n",
    "    ServerTotalTime30.append(TotalTime30/1024)\n",
    "    \n",
    "#print(ServerTotalTime0)\n",
    "ax.plot(x, ServerTotalTime0,color=\"#D95319\",marker=\"v\")\n",
    "ax.plot(x, ServerTotalTime10,color=\"#009A46\",marker=\"*\")\n",
    "ax.plot(x, ServerTotalTime20,color=\"#F2B800\",marker=\"s\")\n",
    "ax.plot(x, ServerTotalTime30,color=\"#0072BD\",marker=\"D\")\n",
    "ax.legend(['0% dropout','10% dropout','20% dropout','30% dropout'],fontsize=font)\n",
    "plt.xticks(fontsize = font)\n",
    "plt.yticks(fontsize = font)\n",
    "\n",
    "fig_width_pt = 300.0  # Get this from LaTeX using \\showthe\n",
    "inches_per_pt = 1.0 / 72.27 * 2  # Convert pt to inches\n",
    "golden_mean = ((np.math.sqrt(5) - 1.0) / 2.0)  # Aesthetic ratio\n",
    "fig_width = fig_width_pt * inches_per_pt  # width in inches\n",
    "fig_height = fig_width  # height in inches\n",
    "# fig_height = (fig_width * 1)  # height in inches\n",
    "fig_size = [0.95 * fig_width, 0.95 *fig_height]\n",
    "pdf_pages = PdfPages(os.path.join(\"plot/Servertotalsize20U.pdf\"))\n",
    "F = plt.gcf()\n",
    "F.set_size_inches(fig_size)\n",
    "pdf_pages.savefig(F, bbox_inches='tight', pad_inches=0.1)\n",
    "plt.clf()\n",
    "pdf_pages.close()"
   ]
  }
 ],
 "metadata": {
  "kernelspec": {
   "display_name": "Python 3",
   "language": "python",
   "name": "python3"
  },
  "language_info": {
   "codemirror_mode": {
    "name": "ipython",
    "version": 3
   },
   "file_extension": ".py",
   "mimetype": "text/x-python",
   "name": "python",
   "nbconvert_exporter": "python",
   "pygments_lexer": "ipython3",
   "version": "3.6.5"
  }
 },
 "nbformat": 4,
 "nbformat_minor": 2
}
