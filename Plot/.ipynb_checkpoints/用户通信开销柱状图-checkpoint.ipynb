{
 "cells": [
  {
   "cell_type": "code",
   "execution_count": 2,
   "metadata": {},
   "outputs": [],
   "source": [
    "import csv\n",
    "import pandas as pd\n",
    "from collections import Counter\n",
    "import numpy as np\n",
    "import os\n",
    "import matplotlib.pyplot as plt\n",
    "from matplotlib.backends.backend_pdf import PdfPages"
   ]
  },
  {
   "cell_type": "code",
   "execution_count": 5,
   "metadata": {},
   "outputs": [
    {
     "name": "stdout",
     "output_type": "stream",
     "text": [
      "0\n",
      "1\n",
      "2\n",
      "3\n",
      "4\n",
      "5\n",
      "6\n",
      "7\n",
      "8\n",
      "9\n",
      "10\n",
      "11\n"
     ]
    },
    {
     "data": {
      "text/plain": [
       "<Figure size 567.87x567.87 with 0 Axes>"
      ]
     },
     "metadata": {},
     "output_type": "display_data"
    }
   ],
   "source": [
    "#柱状图\n",
    "#0dropout 用户通信开销随着用户数的改变 柱状图\n",
    "DDF = []\n",
    "startusers = 10\n",
    "endusers = 130\n",
    "interval = 10\n",
    "\n",
    "for i in range(startusers, endusers, interval):\n",
    "    filename = f'BENCHMARK/nodropout/good_{i}c_nodrop_l5ms.csv'\n",
    "    df = pd.read_csv(filename)\n",
    "    DDF.append(df)\n",
    "    \n",
    "font = 17\n",
    "\n",
    "fig = plt.figure()\n",
    "ax = plt.axes()\n",
    "\n",
    "plt.xlabel(\"Number of users\",fontsize=font)\n",
    "plt.ylabel(\"Total transmitted data (KB)\",fontsize=font)\n",
    "bar_width = 0.4\n",
    "tick_label = list(range(startusers, endusers, interval))\n",
    "x = np.arange((endusers-startusers)/interval)\n",
    "plt.xticks(x+bar_width/2, tick_label,fontsize=font)\n",
    "plt.yticks(fontsize=font)\n",
    "\n",
    "\n",
    "ClientTotalTime = []\n",
    "ClientRound4Time = []\n",
    "for i, df in enumerate(DDF):\n",
    "    #print(i)\n",
    "    Round4Time = df[\"clientround2totalsize\"].mean()+df[\"Round2totalsize\"].mean()\n",
    "    TotalTime = df[\"clientround0totalsize\"].mean()+df[\"clientround1totalsize\"].mean()+df[\"clientround2totalsize\"].mean()+df[\"clientround3totalsize\"].mean()+df[\"Round0totalsize\"].mean()+df[\"Round1totalsize\"].mean()/((i+1)*10)+df[\"Round2totalsize\"].mean()+df[\"Round3totalsize\"].mean()\n",
    "    ClientRound4Time.append(Round4Time)\n",
    "    ClientTotalTime.append(TotalTime)\n",
    "    \n",
    "ax.bar(x,ClientRound4Time, bar_width, color=\"#0072BD\", align=\"center\", label=\"Verification cost\",edgecolor=\"#000000\")\n",
    "ax.bar(x+bar_width, ClientTotalTime, bar_width, align=\"center\", color=\"#D95319\", label=\"Total cost\",edgecolor=\"#000000\")\n",
    "\n",
    "plt.legend(loc=\"center left\",bbox_to_anchor=(0,0.84),fontsize=font)\n",
    "plt.text(0,303,'No dropout',fontsize=font)\n",
    "fig_width_pt = 300.0  # Get this from LaTeX using \\showthe\n",
    "inches_per_pt = 1.0 / 72.27 * 2  # Convert pt to inches\n",
    "golden_mean = ((np.math.sqrt(5) - 1.0) / 2.0)  # Aesthetic ratio\n",
    "fig_width = fig_width_pt * inches_per_pt  # width in inches\n",
    "fig_height = fig_width  # height in inches\n",
    "# fig_height = (fig_width * 1)  # height in inches\n",
    "fig_size = [0.95 * fig_width, 0.95 *fig_height]\n",
    "pdf_pages = PdfPages(os.path.join(\"plot/0dropoutU_100G_totalsize.pdf\"))\n",
    "F = plt.gcf()\n",
    "F.set_size_inches(fig_size)\n",
    "pdf_pages.savefig(F, bbox_inches='tight', pad_inches=0.1)\n",
    "plt.clf()\n",
    "pdf_pages.close()"
   ]
  },
  {
   "cell_type": "code",
   "execution_count": 7,
   "metadata": {},
   "outputs": [
    {
     "data": {
      "text/plain": [
       "<Figure size 567.87x567.87 with 0 Axes>"
      ]
     },
     "metadata": {},
     "output_type": "display_data"
    }
   ],
   "source": [
    "#柱状图\n",
    "#30dropout 用户通信开销随着用户数的改变 柱状图\n",
    "DDF = []\n",
    "startusers = 10\n",
    "endusers = 130\n",
    "interval = 10\n",
    "\n",
    "for i in range(startusers, endusers, interval):\n",
    "    filename = f'BENCHMARK/30dropout/benchmark_{i}c_drop_{int(i*7/10)}_{int(i*3/10)}.csv'\n",
    "    df = pd.read_csv(filename)\n",
    "    DDF.append(df)\n",
    "    \n",
    "font = 17\n",
    "\n",
    "fig = plt.figure()\n",
    "ax = plt.axes()\n",
    "\n",
    "plt.xlabel(\"Number of users\",fontsize=font)\n",
    "plt.ylabel(\"Total transmitted data (KB)\",fontsize=font)\n",
    "bar_width = 0.4\n",
    "tick_label = list(range(startusers, endusers, interval))\n",
    "x = np.arange((endusers-startusers)/interval)\n",
    "plt.xticks(x+bar_width/2, tick_label,fontsize=font)\n",
    "plt.yticks(fontsize=font)\n",
    "\n",
    "\n",
    "ClientTotalTime = []\n",
    "ClientRound4Time = []\n",
    "for i, df in enumerate(DDF):\n",
    "    #print(i)\n",
    "    Round4Time = df[\"clientround2totalsize\"].mean()+df[\"Round2totalsize\"].mean()\n",
    "    TotalTime = df[\"clientround0totalsize\"].mean()+df[\"clientround1totalsize\"].mean()+df[\"clientround2totalsize\"].mean()+df[\"clientround3totalsize\"].mean()+df[\"Round0totalsize\"].mean()+df[\"Round1totalsize\"].mean()/((i+1)*10)+df[\"Round2totalsize\"].mean()+df[\"Round3totalsize\"].mean()\n",
    "    ClientRound4Time.append(Round4Time)\n",
    "    ClientTotalTime.append(TotalTime)\n",
    "    \n",
    "ax.bar(x,ClientRound4Time, bar_width, color=\"#0072BD\", align=\"center\", label=\"Verification cost\",edgecolor=\"#000000\")\n",
    "ax.bar(x+bar_width, ClientTotalTime, bar_width, align=\"center\", color=\"#D95319\", label=\"Total cost\",edgecolor=\"#000000\")\n",
    "\n",
    "plt.legend(loc=\"center left\",bbox_to_anchor=(0,0.84),fontsize=font)\n",
    "plt.text(0,103,'No dropout',fontsize=font)\n",
    "fig_width_pt = 300.0  # Get this from LaTeX using \\showthe\n",
    "inches_per_pt = 1.0 / 72.27 * 2  # Convert pt to inches\n",
    "golden_mean = ((np.math.sqrt(5) - 1.0) / 2.0)  # Aesthetic ratio\n",
    "fig_width = fig_width_pt * inches_per_pt  # width in inches\n",
    "fig_height = fig_width  # height in inches\n",
    "# fig_height = (fig_width * 1)  # height in inches\n",
    "fig_size = [0.95 * fig_width, 0.95 *fig_height]\n",
    "pdf_pages = PdfPages(os.path.join(\"plot/30dropoutU_100G_totalsize.pdf\"))\n",
    "F = plt.gcf()\n",
    "F.set_size_inches(fig_size)\n",
    "pdf_pages.savefig(F, bbox_inches='tight', pad_inches=0.1)\n",
    "plt.clf()\n",
    "pdf_pages.close()"
   ]
  },
  {
   "cell_type": "code",
   "execution_count": 8,
   "metadata": {},
   "outputs": [
    {
     "data": {
      "text/plain": [
       "<Figure size 567.87x567.87 with 0 Axes>"
      ]
     },
     "metadata": {},
     "output_type": "display_data"
    }
   ],
   "source": [
    "#柱状图\n",
    "#0dropout 用户通信开销随着梯度300-3000的变化\n",
    "\n",
    "startusers = 300\n",
    "endusers = 3300\n",
    "interval = 300\n",
    "DDF = []\n",
    "\n",
    "for i in range(startusers, endusers, interval):\n",
    "    filename = f'BENCHMARK/gradient0/gradient020c_drop_20_0_{i}.csv'\n",
    "    df = pd.read_csv(filename)\n",
    "    DDF.append(df)\n",
    "#plt.style.use('seaborn-whitegrid')\n",
    "font = 17\n",
    "\n",
    "fig = plt.figure()\n",
    "ax = plt.axes()\n",
    "\n",
    "plt.xlabel(\"Number of gradients per user\",fontsize=15)\n",
    "plt.ylabel(\"Running time per user (s)\",fontsize=font)\n",
    "bar_width = 0.4\n",
    "tick_label = list(range(startusers, endusers, interval))\n",
    "x = np.arange((endusers-startusers)/interval)\n",
    "plt.xticks(x+bar_width/2, tick_label,fontsize=15)\n",
    "plt.yticks(fontsize=font)\n",
    "\n",
    "ClientTotalTime = []\n",
    "ClientRound4Time = []\n",
    "for i, df in enumerate(DDF):\n",
    "    Round4Time = df[\"clientround2totalsize\"].mean()+df[\"Round2totalsize\"].mean() #验证花费的通信开销\n",
    "    #用户总的通信开销 4轮协议的收发\n",
    "    TotalTime = df[\"clientround0totalsize\"].mean()+df[\"clientround1totalsize\"].mean()+df[\"clientround2totalsize\"].mean()+df[\"clientround3totalsize\"].mean()+df[\"Round0totalsize\"].mean()+df[\"Round1totalsize\"].mean()/((i+1)*10)+df[\"Round2totalsize\"].mean()+df[\"Round3totalsize\"].mean()\n",
    "    ClientRound4Time.append(Round4Time)\n",
    "    ClientTotalTime.append(TotalTime)\n",
    "    \n",
    "ax.bar(x,ClientRound4Time, bar_width, color=\"#0072BD\", align=\"center\", label=\"Verification cost\",edgecolor=\"#000000\")\n",
    "ax.bar(x+bar_width, ClientTotalTime, bar_width, align=\"center\", color=\"#D95319\", label=\"Total cost\",edgecolor=\"#000000\")\n",
    "\n",
    "plt.legend(loc=\"center left\",bbox_to_anchor=(0,0.84),fontsize=font)\n",
    "plt.text(0,57,'No dropout',fontsize=font)\n",
    "fig_width_pt = 300.0  # Get this from LaTeX using \\showthe\n",
    "inches_per_pt = 1.0 / 72.27 * 2  # Convert pt to inches\n",
    "golden_mean = ((np.math.sqrt(5) - 1.0) / 2.0)  # Aesthetic ratio\n",
    "fig_width = fig_width_pt * inches_per_pt  # width in inches\n",
    "fig_height = fig_width  # height in inches\n",
    "# fig_height = (fig_width * 1)  # height in inches\n",
    "fig_size = [0.95 * fig_width, 0.95 *fig_height]\n",
    "pdf_pages = PdfPages(os.path.join(\"plot/0dropoutG_20U_totalsize.pdf\"))\n",
    "F = plt.gcf()\n",
    "F.set_size_inches(fig_size)\n",
    "pdf_pages.savefig(F, bbox_inches='tight', pad_inches=0.1)\n",
    "plt.clf()\n",
    "pdf_pages.close()"
   ]
  },
  {
   "cell_type": "code",
   "execution_count": 9,
   "metadata": {},
   "outputs": [
    {
     "data": {
      "text/plain": [
       "<Figure size 567.87x567.87 with 0 Axes>"
      ]
     },
     "metadata": {},
     "output_type": "display_data"
    }
   ],
   "source": [
    "#柱状图\n",
    "#30dropout 用户通信开销随着梯度300-3000的变化\n",
    "\n",
    "startusers = 300\n",
    "endusers = 3300\n",
    "interval = 300\n",
    "DDF = []\n",
    "\n",
    "for i in range(startusers, endusers, interval):\n",
    "    filename = f'BENCHMARK/gradient30/gradient3020c_drop_14_6_{i}.csv'\n",
    "    df = pd.read_csv(filename)\n",
    "    DDF.append(df)\n",
    "#plt.style.use('seaborn-whitegrid')\n",
    "font = 17\n",
    "\n",
    "fig = plt.figure()\n",
    "ax = plt.axes()\n",
    "\n",
    "plt.xlabel(\"Number of gradients per user\",fontsize=15)\n",
    "plt.ylabel(\"Running time per user (s)\",fontsize=font)\n",
    "bar_width = 0.4\n",
    "tick_label = list(range(startusers, endusers, interval))\n",
    "x = np.arange((endusers-startusers)/interval)\n",
    "plt.xticks(x+bar_width/2, tick_label,fontsize=15)\n",
    "plt.yticks(fontsize=font)\n",
    "\n",
    "ClientTotalTime = []\n",
    "ClientRound4Time = []\n",
    "for i, df in enumerate(DDF):\n",
    "    Round4Time = df[\"clientround2totalsize\"].mean()+df[\"Round2totalsize\"].mean() #验证花费的通信开销\n",
    "    #用户总的通信开销 4轮协议的收发\n",
    "    TotalTime = df[\"clientround0totalsize\"].mean()+df[\"clientround1totalsize\"].mean()+df[\"clientround2totalsize\"].mean()+df[\"clientround3totalsize\"].mean()+df[\"Round0totalsize\"].mean()+df[\"Round1totalsize\"].mean()/((i+1)*10)+df[\"Round2totalsize\"].mean()+df[\"Round3totalsize\"].mean()\n",
    "    ClientRound4Time.append(Round4Time)\n",
    "    ClientTotalTime.append(TotalTime)\n",
    "    \n",
    "ax.bar(x,ClientRound4Time, bar_width, color=\"#0072BD\", align=\"center\", label=\"Verification cost\",edgecolor=\"#000000\")\n",
    "ax.bar(x+bar_width, ClientTotalTime, bar_width, align=\"center\", color=\"#D95319\", label=\"Total cost\",edgecolor=\"#000000\")\n",
    "\n",
    "plt.legend(loc=\"center left\",bbox_to_anchor=(0,0.84),fontsize=font)\n",
    "plt.text(0,57,'No dropout',fontsize=font)\n",
    "fig_width_pt = 300.0  # Get this from LaTeX using \\showthe\n",
    "inches_per_pt = 1.0 / 72.27 * 2  # Convert pt to inches\n",
    "golden_mean = ((np.math.sqrt(5) - 1.0) / 2.0)  # Aesthetic ratio\n",
    "fig_width = fig_width_pt * inches_per_pt  # width in inches\n",
    "fig_height = fig_width  # height in inches\n",
    "# fig_height = (fig_width * 1)  # height in inches\n",
    "fig_size = [0.95 * fig_width, 0.95 *fig_height]\n",
    "pdf_pages = PdfPages(os.path.join(\"plot/30dropoutG_20U_totalsize.pdf\"))\n",
    "F = plt.gcf()\n",
    "F.set_size_inches(fig_size)\n",
    "pdf_pages.savefig(F, bbox_inches='tight', pad_inches=0.1)\n",
    "plt.clf()\n",
    "pdf_pages.close()"
   ]
  }
 ],
 "metadata": {
  "kernelspec": {
   "display_name": "Python 3",
   "language": "python",
   "name": "python3"
  },
  "language_info": {
   "codemirror_mode": {
    "name": "ipython",
    "version": 3
   },
   "file_extension": ".py",
   "mimetype": "text/x-python",
   "name": "python",
   "nbconvert_exporter": "python",
   "pygments_lexer": "ipython3",
   "version": "3.6.5"
  }
 },
 "nbformat": 4,
 "nbformat_minor": 2
}
