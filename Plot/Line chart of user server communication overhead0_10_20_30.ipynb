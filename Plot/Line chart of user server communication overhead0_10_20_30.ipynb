{
 "cells": [
  {
   "cell_type": "code",
   "execution_count": 1,
   "metadata": {},
   "outputs": [],
   "source": [
    "import csv\n",
    "import pandas as pd\n",
    "from collections import Counter\n",
    "import numpy as np\n",
    "import os\n",
    "import matplotlib.pyplot as plt\n",
    "from matplotlib.backends.backend_pdf import PdfPages"
   ]
  },
  {
   "cell_type": "code",
   "execution_count": 2,
   "metadata": {},
   "outputs": [],
   "source": [
    "#读入【梯度数固定为100，用户数10-120】数据\n",
    "DDF0 = []\n",
    "DDF10 = []\n",
    "DDF20 = []\n",
    "DDF30 = []\n",
    "startusers = 10\n",
    "endusers = 130\n",
    "interval = 10\n",
    "for i in range(startusers, endusers, interval):\n",
    "    filename0 = f'BENCHMARK/nodropout/good_{i}c_nodrop_l5ms.csv'\n",
    "    df0 = pd.read_csv(filename0)\n",
    "    DDF0.append(df0)\n",
    "    \n",
    "    filename10 = f'BENCHMARK/10dropout/benchmark_{i}c_drop_{int(i*9/10)}_{int(i*1/10)}.csv'\n",
    "    df10 = pd.read_csv(filename10)\n",
    "    DDF10.append(df10)\n",
    "    \n",
    "    filename20 = f'BENCHMARK/20dropout/benchmark_{i}c_drop_{int(i*8/10)}_{int(i*2/10)}.csv'\n",
    "    df20 = pd.read_csv(filename20)\n",
    "    DDF20.append(df20)\n",
    "    \n",
    "    filename30 = f'BENCHMARK/30dropout/benchmark_{i}c_drop_{int(i*7/10)}_{int(i*3/10)}.csv'\n",
    "    df30 = pd.read_csv(filename30)\n",
    "    DDF30.append(df30)\n"
   ]
  },
  {
   "cell_type": "code",
   "execution_count": 3,
   "metadata": {},
   "outputs": [
    {
     "name": "stdout",
     "output_type": "stream",
     "text": [
      "297.7281005859375\n",
      "570.5205891927083\n",
      "843.9792100694444\n",
      "1115.7867350260417\n",
      "1391.0404752604165\n",
      "1662.9672853280001\n",
      "1934.7166343919048\n",
      "2206.5669004695314\n",
      "2485.7597620081024\n",
      "2757.42187473\n",
      "3029.7877752130685\n",
      "3296.68847698\n"
     ]
    },
    {
     "data": {
      "text/plain": [
       "<Figure size 567.87x567.87 with 0 Axes>"
      ]
     },
     "metadata": {},
     "output_type": "display_data"
    }
   ],
   "source": [
    "#用户通信开销数据折线图 0 10 20 30 情况\n",
    "#折线图\n",
    "fig = plt.figure()\n",
    "ax = plt.axes()\n",
    "font = 17\n",
    "#plt.title('Runtime of server')\n",
    "plt.xlabel('Number of users',fontsize = font)\n",
    "plt.ylabel('Total transmitted data per user (KB)',fontsize = font)\n",
    "\n",
    "x = list(range(startusers, endusers, interval))\n",
    "ServerTotalTime0 = []\n",
    "ServerTotalTime10 = []\n",
    "ServerTotalTime20 = []\n",
    "ServerTotalTime30 = []\n",
    "for i, df in enumerate(DDF0):\n",
    "    TotalTime0 = df[\"clientround1totalsize\"].mean()+df[\"clientround2totalsize\"].mean()+df[\"clientround3totalsize\"].mean()+df[\"Round1totalsize\"].mean()/((i+1)*10)+df[\"Round2totalsize\"].mean()+df[\"Round3totalsize\"].mean()\n",
    "    print(TotalTime0)\n",
    "    ServerTotalTime0.append(TotalTime0)\n",
    "for i, df in enumerate(DDF10):\n",
    "    TotalTime10 = df[\"clientround1totalsize\"].mean()+df[\"clientround2totalsize\"].mean()+df[\"clientround3totalsize\"].mean()+df[\"Round1totalsize\"].mean()/((i+1)*10)+df[\"Round2totalsize\"].mean()+df[\"Round3totalsize\"].mean()\n",
    "    ServerTotalTime10.append(TotalTime10)\n",
    "for i, df in enumerate(DDF20):\n",
    "    TotalTime20 = df[\"clientround1totalsize\"].mean()+df[\"clientround2totalsize\"].mean()+df[\"clientround3totalsize\"].mean()+df[\"Round1totalsize\"].mean()/((i+1)*10)+df[\"Round2totalsize\"].mean()+df[\"Round3totalsize\"].mean()\n",
    "    ServerTotalTime20.append(TotalTime20)\n",
    "for i, df in enumerate(DDF30):\n",
    "    TotalTime30 = df[\"clientround1totalsize\"].mean()+df[\"clientround2totalsize\"].mean()+df[\"clientround3totalsize\"].mean()+df[\"Round1totalsize\"].mean()/((i+1)*10)+df[\"Round2totalsize\"].mean()+df[\"Round3totalsize\"].mean()\n",
    "    ServerTotalTime30.append(TotalTime30)\n",
    "    \n",
    "#print(ServerTotalTime0)\n",
    "ax.plot(x, ServerTotalTime0,color=\"#D95319\",marker=\"v\")\n",
    "ax.plot(x, ServerTotalTime10,color=\"#009A46\",marker=\"*\")\n",
    "ax.plot(x, ServerTotalTime20,color=\"#F2B800\",marker=\"s\")\n",
    "ax.plot(x, ServerTotalTime30,color=\"#0072BD\",marker=\"D\")\n",
    "ax.legend(['0% dropout','10% dropout','20% dropout','30% dropout'],fontsize = font)\n",
    "plt.xticks(fontsize = font)\n",
    "plt.yticks(fontsize = font)\n",
    "\n",
    "fig_width_pt = 300.0  # Get this from LaTeX using \\showthe\n",
    "inches_per_pt = 1.0 / 72.27 * 2  # Convert pt to inches\n",
    "golden_mean = ((np.math.sqrt(5) - 1.0) / 2.0)  # Aesthetic ratio\n",
    "fig_width = fig_width_pt * inches_per_pt  # width in inches\n",
    "fig_height = fig_width  # height in inches\n",
    "# fig_height = (fig_width * 1)  # height in inches\n",
    "fig_size = [0.95 * fig_width, 0.95 *fig_height]\n",
    "pdf_pages = PdfPages(os.path.join(\"plot/Usertotalsize100G.pdf\"))\n",
    "F = plt.gcf()\n",
    "F.set_size_inches(fig_size)\n",
    "pdf_pages.savefig(F, bbox_inches='tight', pad_inches=0.1)\n",
    "plt.clf()\n",
    "pdf_pages.close()"
   ]
  },
  {
   "cell_type": "code",
   "execution_count": 4,
   "metadata": {},
   "outputs": [
    {
     "name": "stdout",
     "output_type": "stream",
     "text": [
      "962.458740234375\n",
      "3003.0602213541665\n",
      "6149.772135416666\n",
      "10329.649088541666\n",
      "15737.709960937502\n",
      "22075.958983588\n",
      "29494.769860543336\n",
      "37970.6157216825\n",
      "48149.19108072919\n",
      "58811.53125369\n",
      "70564.08886718753\n",
      "83342.20117021\n"
     ]
    },
    {
     "data": {
      "text/plain": [
       "<Figure size 567.87x567.87 with 0 Axes>"
      ]
     },
     "metadata": {},
     "output_type": "display_data"
    }
   ],
   "source": [
    "#服务器通信开销折线图 0 10 20 30 情况\n",
    "#折线图\n",
    "fig = plt.figure()\n",
    "ax = plt.axes()\n",
    "font = 17\n",
    "#plt.title('Runtime of server')\n",
    "plt.xlabel('Number of users',fontsize = font)\n",
    "plt.ylabel('Total transmitted data of server (MB)',fontsize = font)\n",
    "\n",
    "x = list(range(startusers, endusers, interval))\n",
    "ServerTotalTime0 = []\n",
    "ServerTotalTime10 = []\n",
    "ServerTotalTime20 = []\n",
    "ServerTotalTime30 = []\n",
    "for i, df in enumerate(DDF0):\n",
    "    TotalTime0 = ((i+1)*10)*df[\"clientround1totalsize\"].mean()+((i+1)*10)*df[\"clientround2totalsize\"].mean()+((i+1)*10)*df[\"clientround3totalsize\"].mean()+df[\"Round1totalsize\"].mean()+df[\"Round2totalsize\"].mean()+df[\"Round3totalsize\"].mean()\n",
    "    print(TotalTime0)\n",
    "    ServerTotalTime0.append(TotalTime0/1024)\n",
    "for i, df in enumerate(DDF10):\n",
    "    TotalTime10 = ((i+1)*10)*df[\"clientround1totalsize\"].mean()+((i+1)*9)*df[\"clientround2totalsize\"].mean()+((i+1)*9)*df[\"clientround3totalsize\"].mean()+df[\"Round1totalsize\"].mean()+df[\"Round2totalsize\"].mean()+df[\"Round3totalsize\"].mean()\n",
    "    ServerTotalTime10.append(TotalTime10/1024)\n",
    "for i, df in enumerate(DDF20):\n",
    "    TotalTime20 = ((i+1)*10)*df[\"clientround1totalsize\"].mean()+((i+1)*8)*df[\"clientround2totalsize\"].mean()+((i+1)*8)*df[\"clientround3totalsize\"].mean()+df[\"Round1totalsize\"].mean()+df[\"Round2totalsize\"].mean()+df[\"Round3totalsize\"].mean()\n",
    "    ServerTotalTime20.append(TotalTime20/1024)\n",
    "for i, df in enumerate(DDF30):\n",
    "    TotalTime30 = ((i+1)*10)*df[\"clientround1totalsize\"].mean()+((i+1)*7)*df[\"clientround2totalsize\"].mean()+((i+1)*7)*df[\"clientround3totalsize\"].mean()+df[\"Round1totalsize\"].mean()+df[\"Round2totalsize\"].mean()+df[\"Round3totalsize\"].mean()\n",
    "    ServerTotalTime30.append(TotalTime30/1024)\n",
    "    \n",
    "#print(ServerTotalTime0)\n",
    "ax.plot(x, ServerTotalTime0,color=\"#D95319\",marker=\"v\")\n",
    "ax.plot(x, ServerTotalTime10,color=\"#009A46\",marker=\"*\")\n",
    "ax.plot(x, ServerTotalTime20,color=\"#F2B800\",marker=\"s\")\n",
    "ax.plot(x, ServerTotalTime30,color=\"#0072BD\",marker=\"D\")\n",
    "ax.legend(['0% dropout','10% dropout','20% dropout','30% dropout'],fontsize = font)\n",
    "plt.xticks(fontsize = font)\n",
    "plt.yticks(fontsize = font)\n",
    "\n",
    "fig_width_pt = 300.0  # Get this from LaTeX using \\showthe\n",
    "inches_per_pt = 1.0 / 72.27 * 2  # Convert pt to inches\n",
    "golden_mean = ((np.math.sqrt(5) - 1.0) / 2.0)  # Aesthetic ratio\n",
    "fig_width = fig_width_pt * inches_per_pt  # width in inches\n",
    "fig_height = fig_width  # height in inches\n",
    "# fig_height = (fig_width * 1)  # height in inches\n",
    "fig_size = [0.95 * fig_width, 0.95 *fig_height]\n",
    "pdf_pages = PdfPages(os.path.join(\"plot/Servertotalsize100G.pdf\"))\n",
    "F = plt.gcf()\n",
    "F.set_size_inches(fig_size)\n",
    "pdf_pages.savefig(F, bbox_inches='tight', pad_inches=0.1)\n",
    "plt.clf()\n",
    "pdf_pages.close()"
   ]
  },
  {
   "cell_type": "code",
   "execution_count": 5,
   "metadata": {},
   "outputs": [],
   "source": [
    "#读入数据 【用户数固定为20，梯度数500-3000，，，指标随着梯度数量的变化而变化】\n",
    "DDF0 = []\n",
    "DDF10 = []\n",
    "DDF20 = []\n",
    "DDF30 = []\n",
    "startusers = 300\n",
    "endusers = 3300\n",
    "interval = 300\n",
    "\n",
    "for i in range(startusers, endusers, interval):\n",
    "    filename0 = f'BENCHMARK/gradient0/gradient020c_drop_20_0_{i}.csv'\n",
    "    df0 = pd.read_csv(filename0)\n",
    "    DDF0.append(df0)\n",
    "    \n",
    "    filename10 = f'BENCHMARK/gradient10/gradient1020c_drop_18_2_{i}.csv'\n",
    "    df10 = pd.read_csv(filename10)\n",
    "    DDF10.append(df10)\n",
    "    \n",
    "    filename20 = f'BENCHMARK/gradient20/gradient2020c_drop_16_4_{i}.csv'\n",
    "    df20 = pd.read_csv(filename20)\n",
    "    DDF20.append(df20)\n",
    "    \n",
    "    filename30 = f'BENCHMARK/gradient30/gradient3020c_drop_14_6_{i}.csv'\n",
    "    df30 = pd.read_csv(filename30)\n",
    "    DDF30.append(df30)"
   ]
  },
  {
   "cell_type": "code",
   "execution_count": 6,
   "metadata": {},
   "outputs": [
    {
     "name": "stdout",
     "output_type": "stream",
     "text": [
      "1414.893408203125\n",
      "2702.5216796875\n",
      "3970.743212890625\n",
      "5228.798681640625\n",
      "6510.57919921875\n",
      "7745.609375\n",
      "9074.83623046875\n",
      "10339.105810546875\n",
      "11615.553955078125\n",
      "12905.277783203124\n"
     ]
    },
    {
     "data": {
      "text/plain": [
       "<Figure size 567.87x567.87 with 0 Axes>"
      ]
     },
     "metadata": {},
     "output_type": "display_data"
    }
   ],
   "source": [
    "#梯度从300-3000 不同dropout0、10、20、30情况下用户通信开销折线图\n",
    "fig = plt.figure()\n",
    "ax = plt.axes()\n",
    "font=17\n",
    "#plt.title('Runtime of server')\n",
    "plt.xlabel('Number of gradients per user',fontsize=font)\n",
    "plt.ylabel('Total transmitted data per user (KB)',fontsize=font)\n",
    "N=20#用户数\n",
    "x = list(range(startusers, endusers, interval))\n",
    "UserTotalTime0 = []\n",
    "UserTotalTime10 = []\n",
    "UserTotalTime20 = []\n",
    "UserTotalTime30 = []\n",
    "for i, df in enumerate(DDF0):\n",
    "    TotalTime0 = df[\"clientround1totalsize\"].mean()+df[\"clientround2totalsize\"].mean()+df[\"clientround3totalsize\"].mean()+df[\"Round1totalsize\"].mean()/N+df[\"Round2totalsize\"].mean()+df[\"Round3totalsize\"].mean()\n",
    "    print(TotalTime0)\n",
    "    UserTotalTime0.append(TotalTime0)\n",
    "for i, df in enumerate(DDF10):\n",
    "    TotalTime10 = df[\"clientround1totalsize\"].mean()+df[\"clientround2totalsize\"].mean()+df[\"clientround3totalsize\"].mean()+df[\"Round1totalsize\"].mean()/N+df[\"Round2totalsize\"].mean()+df[\"Round3totalsize\"].mean()\n",
    "    UserTotalTime10.append(TotalTime10)\n",
    "for i, df in enumerate(DDF20):\n",
    "    TotalTime20 = df[\"clientround1totalsize\"].mean()+df[\"clientround2totalsize\"].mean()+df[\"clientround3totalsize\"].mean()+df[\"Round1totalsize\"].mean()/N+df[\"Round2totalsize\"].mean()+df[\"Round3totalsize\"].mean()\n",
    "    UserTotalTime20.append(TotalTime20)\n",
    "for i, df in enumerate(DDF30):\n",
    "    TotalTime30 = df[\"clientround1totalsize\"].mean()+df[\"clientround2totalsize\"].mean()+df[\"clientround3totalsize\"].mean()+df[\"Round1totalsize\"].mean()/N+df[\"Round2totalsize\"].mean()+df[\"Round3totalsize\"].mean()\n",
    "    UserTotalTime30.append(TotalTime30)\n",
    "    \n",
    "#print(ServerTotalTime0)\n",
    "ax.plot(x, UserTotalTime0,color=\"#D95319\",marker=\"v\")\n",
    "ax.plot(x, UserTotalTime10,color=\"#009A46\",marker=\"*\")\n",
    "ax.plot(x, UserTotalTime20,color=\"#F2B800\",marker=\"s\")\n",
    "ax.plot(x, UserTotalTime30,color=\"#0072BD\",marker=\"D\")\n",
    "ax.legend(['0% dropout','10% dropout','20% dropout','30% dropout'],fontsize=font)\n",
    "plt.xticks(fontsize = font)\n",
    "plt.yticks(fontsize = font)\n",
    "\n",
    "fig_width_pt = 300.0  # Get this from LaTeX using \\showthe\n",
    "inches_per_pt = 1.0 / 72.27 * 2  # Convert pt to inches\n",
    "golden_mean = ((np.math.sqrt(5) - 1.0) / 2.0)  # Aesthetic ratio\n",
    "fig_width = fig_width_pt * inches_per_pt  # width in inches\n",
    "fig_height = fig_width  # height in inches\n",
    "# fig_height = (fig_width * 1)  # height in inches\n",
    "fig_size = [0.95 * fig_width, 0.95 *fig_height]\n",
    "pdf_pages = PdfPages(os.path.join(\"plot/Usertotalsize20U.pdf\"))\n",
    "F = plt.gcf()\n",
    "F.set_size_inches(fig_size)\n",
    "pdf_pages.savefig(F, bbox_inches='tight', pad_inches=0.1)\n",
    "plt.clf()\n",
    "pdf_pages.close()"
   ]
  },
  {
   "cell_type": "code",
   "execution_count": 7,
   "metadata": {},
   "outputs": [
    {
     "name": "stdout",
     "output_type": "stream",
     "text": [
      "18639.248046875\n",
      "32411.66796875\n",
      "46066.638671875015\n",
      "59666.47460937501\n",
      "73405.04687500001\n",
      "86864.62890625\n",
      "100879.90234375\n",
      "114515.607421875\n",
      "128221.04882812496\n",
      "142007.06835937503\n"
     ]
    },
    {
     "data": {
      "text/plain": [
       "<Figure size 567.87x567.87 with 0 Axes>"
      ]
     },
     "metadata": {},
     "output_type": "display_data"
    }
   ],
   "source": [
    "#梯度从300-3000 不同dropout0、10、20、30情况下server的通信开销折线图\n",
    "fig = plt.figure()\n",
    "ax = plt.axes()\n",
    "font=17\n",
    "#plt.title('Runtime of server')\n",
    "plt.xlabel('Number of gradients per user',fontsize=font)\n",
    "plt.ylabel('Total transmitted data of server (MB)',fontsize = font)\n",
    "N = 20#用户数\n",
    "x = list(range(startusers, endusers, interval))\n",
    "ServerTotalTime0 = []\n",
    "ServerTotalTime10 = []\n",
    "ServerTotalTime20 = []\n",
    "ServerTotalTime30 = []\n",
    "for i, df in enumerate(DDF0):\n",
    "    TotalTime0 = N*df[\"clientround1totalsize\"].mean()+(N*10)*df[\"clientround2totalsize\"].mean()+(N*10)*df[\"clientround3totalsize\"].mean()+df[\"Round1totalsize\"].mean()+df[\"Round2totalsize\"].mean()+df[\"Round3totalsize\"].mean()\n",
    "    print(TotalTime0)\n",
    "    ServerTotalTime0.append(TotalTime0/1024)\n",
    "for i, df in enumerate(DDF10):\n",
    "    TotalTime10 = N*df[\"clientround1totalsize\"].mean()+(N*9)*df[\"clientround2totalsize\"].mean()+(N*9)*df[\"clientround3totalsize\"].mean()+df[\"Round1totalsize\"].mean()+df[\"Round2totalsize\"].mean()+df[\"Round3totalsize\"].mean()\n",
    "    ServerTotalTime10.append(TotalTime10/1024)\n",
    "for i, df in enumerate(DDF20):\n",
    "    TotalTime20 = N*df[\"clientround1totalsize\"].mean()+(N*8)*df[\"clientround2totalsize\"].mean()+(N*8)*df[\"clientround3totalsize\"].mean()+df[\"Round1totalsize\"].mean()+df[\"Round2totalsize\"].mean()+df[\"Round3totalsize\"].mean()\n",
    "    ServerTotalTime20.append(TotalTime20/1024)\n",
    "for i, df in enumerate(DDF30):\n",
    "    TotalTime30 = N*df[\"clientround1totalsize\"].mean()+(N*7)*df[\"clientround2totalsize\"].mean()+(N*7)*df[\"clientround3totalsize\"].mean()+df[\"Round1totalsize\"].mean()+df[\"Round2totalsize\"].mean()+df[\"Round3totalsize\"].mean()\n",
    "    ServerTotalTime30.append(TotalTime30/1024)\n",
    "    \n",
    "#print(ServerTotalTime0)\n",
    "ax.plot(x, ServerTotalTime0,color=\"#D95319\",marker=\"v\")\n",
    "ax.plot(x, ServerTotalTime10,color=\"#009A46\",marker=\"*\")\n",
    "ax.plot(x, ServerTotalTime20,color=\"#F2B800\",marker=\"s\")\n",
    "ax.plot(x, ServerTotalTime30,color=\"#0072BD\",marker=\"D\")\n",
    "ax.legend(['0% dropout','10% dropout','20% dropout','30% dropout'],fontsize=font)\n",
    "plt.xticks(fontsize = font)\n",
    "plt.yticks(fontsize = font)\n",
    "\n",
    "fig_width_pt = 300.0  # Get this from LaTeX using \\showthe\n",
    "inches_per_pt = 1.0 / 72.27 * 2  # Convert pt to inches\n",
    "golden_mean = ((np.math.sqrt(5) - 1.0) / 2.0)  # Aesthetic ratio\n",
    "fig_width = fig_width_pt * inches_per_pt  # width in inches\n",
    "fig_height = fig_width  # height in inches\n",
    "# fig_height = (fig_width * 1)  # height in inches\n",
    "fig_size = [0.95 * fig_width, 0.95 *fig_height]\n",
    "pdf_pages = PdfPages(os.path.join(\"plot/Servertotalsize20U.pdf\"))\n",
    "F = plt.gcf()\n",
    "F.set_size_inches(fig_size)\n",
    "pdf_pages.savefig(F, bbox_inches='tight', pad_inches=0.1)\n",
    "plt.clf()\n",
    "pdf_pages.close()"
   ]
  }
 ],
 "metadata": {
  "kernelspec": {
   "display_name": "Python 3",
   "language": "python",
   "name": "python3"
  },
  "language_info": {
   "codemirror_mode": {
    "name": "ipython",
    "version": 3
   },
   "file_extension": ".py",
   "mimetype": "text/x-python",
   "name": "python",
   "nbconvert_exporter": "python",
   "pygments_lexer": "ipython3",
   "version": "3.6.5"
  }
 },
 "nbformat": 4,
 "nbformat_minor": 2
}
