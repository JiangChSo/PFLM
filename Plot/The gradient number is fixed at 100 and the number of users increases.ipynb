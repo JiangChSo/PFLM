{
 "cells": [
  {
   "cell_type": "code",
   "execution_count": 1,
   "metadata": {},
   "outputs": [],
   "source": [
    "import csv\n",
    "import pandas as pd\n",
    "from collections import Counter\n",
    "import numpy as np\n",
    "import os\n",
    "import matplotlib.pyplot as plt\n",
    "from matplotlib.backends.backend_pdf import PdfPages"
   ]
  },
  {
   "cell_type": "code",
   "execution_count": 2,
   "metadata": {},
   "outputs": [],
   "source": [
    "#读入【梯度数固定为100，用户数10-120】数据\n",
    "\n",
    "filename0 = f'BENCHMARK/nodropout/good_100c_nodrop_l5ms.csv'\n",
    "df0 = pd.read_csv(filename0)\n",
    "    \n",
    "filename10 = f'BENCHMARK/10dropout/benchmark_100c_drop_90_10.csv'\n",
    "df10 = pd.read_csv(filename10)\n",
    "    \n",
    "filename20 = f'BENCHMARK/20dropout/benchmark_100c_drop_80_20.csv'\n",
    "df20 = pd.read_csv(filename20)\n",
    "    \n",
    "filename30 = f'BENCHMARK/30dropout/benchmark_100c_drop_70_30.csv'\n",
    "df30 = pd.read_csv(filename30)\n"
   ]
  },
  {
   "cell_type": "code",
   "execution_count": 3,
   "metadata": {},
   "outputs": [
    {
     "name": "stdout",
     "output_type": "stream",
     "text": [
      "clientround0time: 302\n",
      "clientround1time: 28653\n",
      "clientround2time: 23562\n",
      "clientround3time: 0\n",
      "clientround4time: 7268\n",
      "59785\n"
     ]
    }
   ],
   "source": [
    "df = df30\n",
    "print(\"clientround0time:\",int(df[\"clientround0time\"].mean()*1000))\n",
    "print(\"clientround1time:\",int(df[\"clientround1time\"].mean()*1000))\n",
    "print(\"clientround2time:\",int(df[\"clientround2time\"].mean()*1000))\n",
    "print(\"clientround3time:\",int(df[\"clientround3time\"].mean()*1000))\n",
    "print(\"clientround4time:\",int(df[\"clientround4time\"].mean()*1000))\n",
    "print(int(df[\"clientround1time\"].mean()*1000) +int(df[\"clientround2time\"].mean()*1000)+int(df[\"clientround3time\"].mean()*1000)+int(df[\"clientround4time\"].mean()*1000)+int(df[\"clientround0time\"].mean()*1000))"
   ]
  },
  {
   "cell_type": "code",
   "execution_count": 4,
   "metadata": {},
   "outputs": [
    {
     "name": "stdout",
     "output_type": "stream",
     "text": [
      "serverround1time: 5219\n",
      "serverround1time: 25026\n",
      "serverround2time: 21094\n",
      "serverround2time: 31521\n",
      "serverround3time: 3545\n",
      "serverround2time: 155\n",
      "86560\n"
     ]
    }
   ],
   "source": [
    "df = df0\n",
    "\n",
    "print(\"serverround1time:\",int(df[\"Round1Comp\"].mean()*1000))\n",
    "print(\"serverround1time:\",int(df[\"Round1Comm\"].mean()*1000))\n",
    "print(\"serverround2time:\",int(df[\"Round2Comp\"].mean()*1000))\n",
    "print(\"serverround2time:\",int(df[\"Round2Comm\"].mean()*1000))\n",
    "print(\"serverround3time:\",int(df[\"Round3Comp\"].mean()*1000))\n",
    "print(\"serverround2time:\",int(df[\"Round3Comm\"].mean()*1000))\n",
    "print(int(df[\"Round1Comp\"].mean()*1000) +int(df[\"Round2Comp\"].mean()*1000)+int(df[\"Round3Comp\"].mean()*1000)+int(df[\"Round1Comm\"].mean()*1000) +int(df[\"Round2Comm\"].mean()*1000)+int(df[\"Round3Comm\"].mean()*1000))"
   ]
  },
  {
   "cell_type": "code",
   "execution_count": 5,
   "metadata": {},
   "outputs": [
    {
     "name": "stdout",
     "output_type": "stream",
     "text": [
      "clientround1sendsize: 232\n",
      "clientround2receivesize: 243\n",
      "clientround2sendsize: 22\n",
      "clientround3receivesize: 1527\n",
      "clientround3sendsize: 66\n",
      "clientround4receivesize: 10\n",
      "2100\n"
     ]
    }
   ],
   "source": [
    "#用户通信开销\n",
    "df = df30\n",
    "N=100\n",
    "\n",
    "print(\"clientround1sendsize:\",int(df[\"clientround1totalsize\"].mean()))\n",
    "\n",
    "print(\"clientround2receivesize:\",int(df[\"Round1totalsize\"].mean()/N))\n",
    "print(\"clientround2sendsize:\",int(df[\"clientround2totalsize\"].mean()))\n",
    "\n",
    "print(\"clientround3receivesize:\",int(df[\"Round2totalsize\"].mean()))\n",
    "print(\"clientround3sendsize:\",int(df[\"clientround3totalsize\"].mean()))\n",
    "\n",
    "print(\"clientround4receivesize:\",int(df[\"Round3totalsize\"].mean()))\n",
    "\n",
    "TotalSize0 = int(df[\"clientround1totalsize\"].mean())+int(df[\"clientround2totalsize\"].mean())+int(df[\"clientround3totalsize\"].mean())+int(df[\"Round1totalsize\"].mean()/N)+int(df[\"Round2totalsize\"].mean())+int(df[\"Round3totalsize\"].mean())\n",
    "print(TotalSize0)"
   ]
  },
  {
   "cell_type": "code",
   "execution_count": 42,
   "metadata": {},
   "outputs": [
    {
     "name": "stdout",
     "output_type": "stream",
     "text": [
      "serverround1receivesize: 22.71\n",
      "serverround1sendsize: 23.73\n",
      "serverround2receivesize: 1.54\n",
      "serverround2sendsize: 1.49\n",
      "serverround3receivesize: 4.56\n",
      "serverround3sendsize: 0.01\n",
      "54.04\n"
     ]
    }
   ],
   "source": [
    "#服务器通信开销\n",
    "df = df30\n",
    "N=100\n",
    "dropout=0.3\n",
    "a1 = round(N*df[\"clientround1totalsize\"].mean()/1024,2)\n",
    "a2 = round(df[\"Round1totalsize\"].mean()/1024,2)\n",
    "print(\"serverround1receivesize:\",a1)\n",
    "print(\"serverround1sendsize:\",a2)\n",
    "\n",
    "b1 = round(N*(1-dropout)*df[\"clientround2totalsize\"].mean()/1024,2)\n",
    "b2 = round(df[\"Round2totalsize\"].mean()/1024,2)\n",
    "print(\"serverround2receivesize:\",b1)\n",
    "print(\"serverround2sendsize:\",b2)\n",
    "\n",
    "c1 = round(N*(1-dropout)*df[\"clientround3totalsize\"].mean()/1024,2)\n",
    "c2 = round(df[\"Round3totalsize\"].mean()/1024,2)\n",
    "print(\"serverround3receivesize:\",c1)\n",
    "print(\"serverround3sendsize:\",c2)\n",
    "\n",
    "a11 = a1\n",
    "a22 = a2\n",
    "b11 = b1\n",
    "b22 = b2\n",
    "c11 = c1\n",
    "c22 = c2\n",
    "TotalSize0 =a11 +a22 + b11 + b22 + c11 + c22\n",
    "print(round(TotalSize0,2))"
   ]
  }
 ],
 "metadata": {
  "kernelspec": {
   "display_name": "Python 3",
   "language": "python",
   "name": "python3"
  },
  "language_info": {
   "codemirror_mode": {
    "name": "ipython",
    "version": 3
   },
   "file_extension": ".py",
   "mimetype": "text/x-python",
   "name": "python",
   "nbconvert_exporter": "python",
   "pygments_lexer": "ipython3",
   "version": "3.6.5"
  }
 },
 "nbformat": 4,
 "nbformat_minor": 2
}
